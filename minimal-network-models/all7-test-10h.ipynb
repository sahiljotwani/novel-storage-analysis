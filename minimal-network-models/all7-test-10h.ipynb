{
 "cells": [
  {
   "cell_type": "code",
   "execution_count": 39,
   "metadata": {},
   "outputs": [
    {
     "data": {
      "text/plain": [
       "DatetimeIndex(['2020-01-01 00:00:00', '2020-01-01 01:00:00',\n",
       "               '2020-01-01 02:00:00', '2020-01-01 03:00:00',\n",
       "               '2020-01-01 04:00:00', '2020-01-01 05:00:00',\n",
       "               '2020-01-01 06:00:00', '2020-01-01 07:00:00',\n",
       "               '2020-01-01 08:00:00', '2020-01-01 09:00:00'],\n",
       "              dtype='datetime64[ns]', name='snapshot', freq='H')"
      ]
     },
     "execution_count": 39,
     "metadata": {},
     "output_type": "execute_result"
    }
   ],
   "source": [
    "import pypsa\n",
    "import numpy as np\n",
    "import pandas as pd\n",
    "import matplotlib.pyplot as plt\n",
    "\n",
    "from pypsa.linopf import *\n",
    "from pypsa.linopt import *\n",
    "\n",
    "from pyomo.environ import Constraint\n",
    "\n",
    "network = pypsa.Network()\n",
    "\n",
    "network.snapshots = pd.date_range(\"2020-01-01 00:00\", \"2020-01-01 09:00\", freq=\"H\")\n",
    "\n",
    "network.snapshots"
   ]
  },
  {
   "cell_type": "code",
   "execution_count": 40,
   "metadata": {},
   "outputs": [],
   "source": [
    "def extra_functionality(network, snapshots):\n",
    "    model = network.model\n",
    "    model.link_fix = Constraint(\n",
    "        rule=lambda model: model.link_p_nom[\"Link2Store\"]\n",
    "        == model.link_p_nom[\"Link2Main\"] * network.links.loc['Link2Main','efficiency']\n",
    "    )"
   ]
  },
  {
   "cell_type": "code",
   "execution_count": 41,
   "metadata": {},
   "outputs": [
    {
     "data": {
      "text/html": [
       "<div>\n",
       "<style scoped>\n",
       "    .dataframe tbody tr th:only-of-type {\n",
       "        vertical-align: middle;\n",
       "    }\n",
       "\n",
       "    .dataframe tbody tr th {\n",
       "        vertical-align: top;\n",
       "    }\n",
       "\n",
       "    .dataframe thead th {\n",
       "        text-align: right;\n",
       "    }\n",
       "</style>\n",
       "<table border=\"1\" class=\"dataframe\">\n",
       "  <thead>\n",
       "    <tr style=\"text-align: right;\">\n",
       "      <th>attribute</th>\n",
       "      <th>v_nom</th>\n",
       "      <th>type</th>\n",
       "      <th>x</th>\n",
       "      <th>y</th>\n",
       "      <th>carrier</th>\n",
       "      <th>unit</th>\n",
       "      <th>v_mag_pu_set</th>\n",
       "      <th>v_mag_pu_min</th>\n",
       "      <th>v_mag_pu_max</th>\n",
       "      <th>control</th>\n",
       "      <th>sub_network</th>\n",
       "    </tr>\n",
       "    <tr>\n",
       "      <th>Bus</th>\n",
       "      <th></th>\n",
       "      <th></th>\n",
       "      <th></th>\n",
       "      <th></th>\n",
       "      <th></th>\n",
       "      <th></th>\n",
       "      <th></th>\n",
       "      <th></th>\n",
       "      <th></th>\n",
       "      <th></th>\n",
       "      <th></th>\n",
       "    </tr>\n",
       "  </thead>\n",
       "  <tbody>\n",
       "    <tr>\n",
       "      <th>Main</th>\n",
       "      <td>380.0</td>\n",
       "      <td></td>\n",
       "      <td>0.0</td>\n",
       "      <td>0.0</td>\n",
       "      <td>AC</td>\n",
       "      <td>None</td>\n",
       "      <td>1.0</td>\n",
       "      <td>0.0</td>\n",
       "      <td>inf</td>\n",
       "      <td>PQ</td>\n",
       "      <td></td>\n",
       "    </tr>\n",
       "  </tbody>\n",
       "</table>\n",
       "</div>"
      ],
      "text/plain": [
       "attribute  v_nom type    x    y carrier  unit  v_mag_pu_set  v_mag_pu_min  \\\n",
       "Bus                                                                         \n",
       "Main       380.0       0.0  0.0      AC  None           1.0           0.0   \n",
       "\n",
       "attribute  v_mag_pu_max control sub_network  \n",
       "Bus                                          \n",
       "Main                inf      PQ              "
      ]
     },
     "execution_count": 41,
     "metadata": {},
     "output_type": "execute_result"
    }
   ],
   "source": [
    "network.add(\"Bus\", \"Main\", v_nom=380)\n",
    "network.buses"
   ]
  },
  {
   "cell_type": "code",
   "execution_count": 42,
   "metadata": {},
   "outputs": [],
   "source": [
    "network.add(\n",
    "    \"Load\", \n",
    "    name=\"TotalLoads\", \n",
    "    bus=\"Main\", \n",
    "    p_set=23000)\n",
    "    # p_set=[25200,25200,25200,25200,25200,25200,25200,25200,25200,25200,])"
   ]
  },
  {
   "cell_type": "code",
   "execution_count": 43,
   "metadata": {},
   "outputs": [
    {
     "data": {
      "text/plain": [
       "{'p_set': Empty DataFrame\n",
       " Columns: []\n",
       " Index: [2020-01-01 00:00:00, 2020-01-01 01:00:00, 2020-01-01 02:00:00, 2020-01-01 03:00:00, 2020-01-01 04:00:00, 2020-01-01 05:00:00, 2020-01-01 06:00:00, 2020-01-01 07:00:00, 2020-01-01 08:00:00, 2020-01-01 09:00:00],\n",
       " 'q_set': Empty DataFrame\n",
       " Columns: []\n",
       " Index: [2020-01-01 00:00:00, 2020-01-01 01:00:00, 2020-01-01 02:00:00, 2020-01-01 03:00:00, 2020-01-01 04:00:00, 2020-01-01 05:00:00, 2020-01-01 06:00:00, 2020-01-01 07:00:00, 2020-01-01 08:00:00, 2020-01-01 09:00:00],\n",
       " 'p': Empty DataFrame\n",
       " Columns: []\n",
       " Index: [2020-01-01 00:00:00, 2020-01-01 01:00:00, 2020-01-01 02:00:00, 2020-01-01 03:00:00, 2020-01-01 04:00:00, 2020-01-01 05:00:00, 2020-01-01 06:00:00, 2020-01-01 07:00:00, 2020-01-01 08:00:00, 2020-01-01 09:00:00],\n",
       " 'q': Empty DataFrame\n",
       " Columns: []\n",
       " Index: [2020-01-01 00:00:00, 2020-01-01 01:00:00, 2020-01-01 02:00:00, 2020-01-01 03:00:00, 2020-01-01 04:00:00, 2020-01-01 05:00:00, 2020-01-01 06:00:00, 2020-01-01 07:00:00, 2020-01-01 08:00:00, 2020-01-01 09:00:00]}"
      ]
     },
     "execution_count": 43,
     "metadata": {},
     "output_type": "execute_result"
    }
   ],
   "source": [
    "network.loads_t"
   ]
  },
  {
   "cell_type": "code",
   "execution_count": 44,
   "metadata": {},
   "outputs": [],
   "source": [
    "network.add(\n",
    "    \"Generator\", \n",
    "    name=\"TotalGenerators\", \n",
    "    bus=\"Main\", \n",
    "    p_nom=32500,\n",
    "    #p_max_pu=[1,0.978593,0.948012,0.88685,0.8104,0.7034,0.6422,0.62691,0.61468,0.60856],\n",
    "    p_max_pu=(6250*np.cos(np.linspace(0,9,num=10)*(np.pi/9))+26250)/32500,\n",
    "    capital_cost=1.04*10**6,\n",
    "    efficiency=1,\n",
    "    marginal_cost=2.3,\n",
    "    carrier=\"AC\")"
   ]
  },
  {
   "cell_type": "code",
   "execution_count": 45,
   "metadata": {},
   "outputs": [
    {
     "data": {
      "image/png": "[encoded data removed]",
      "text/plain": [
       "<Figure size 432x288 with 1 Axes>"
      ]
     },
     "metadata": {
      "needs_background": "light"
     },
     "output_type": "display_data"
    }
   ],
   "source": [
    "network.generators_t.p_max_pu.plot.area(subplots=True)\n",
    "plt.tight_layout()"
   ]
  },
  {
   "cell_type": "code",
   "execution_count": 46,
   "metadata": {},
   "outputs": [],
   "source": [
    "network.add(\"Bus\", \"StoreIsland\", carrier=\"AC\")\n",
    "#parameterBank parameters = [Link 1 capital_cost, Link 1 efficiency, Link 2 capital_cost, Link 2 efficiency, Store capital costs]\n",
    "parameterBank = [[0.2055  , 0.9     , 0.2055  , 0.9     , 0.192   ], #Lithium\n",
    "       [0.35    , 0.8     , 0.35    , 0.58    , 0.01064 ], #H2\n",
    "       [0.462238, 0.7211  , 0.633112, 0.7211  , 0.003477], #CAES\n",
    "       [0.367   , 0.7746  , 0.367   , 0.7746  , 0.09437 ], #LAES\n",
    "       [0.17766 , 0.6708  , 0.17766 , 0.6708  , 0.08883 ], #ETES\n",
    "       [0.176515, 0.866   , 0.176515, 0.866   , 0.62289 ], #NaS\n",
    "       [0.75    , 0.8944  , 0.75    , 0.8944  , 0.125   ]] #Fe-Flow\n",
    "storeSeriesData = pd.DataFrame()\n",
    "storeObjectives = [0 for a in range(7)]\n",
    "storeCapacities = [0 for a in range(7)]\n",
    "#columnNames = ['LIB','H2']"
   ]
  },
  {
   "cell_type": "code",
   "execution_count": 47,
   "metadata": {},
   "outputs": [
    {
     "name": "stderr",
     "output_type": "stream",
     "text": [
      "INFO:pypsa.opf:Performed preliminary steps\n",
      "INFO:pypsa.opf:Building pyomo model using `kirchhoff` formulation\n",
      "INFO:pypsa.opf:Solving model using glpk\n",
      "INFO:pypsa.opf:Optimization successful\n"
     ]
    },
    {
     "name": "stdout",
     "output_type": "stream",
     "text": [
      "# ==========================================================\n",
      "# = Solver Results                                         =\n",
      "# ==========================================================\n",
      "# ----------------------------------------------------------\n",
      "#   Problem Information\n",
      "# ----------------------------------------------------------\n",
      "Problem: \n",
      "- Name: unknown\n",
      "  Lower bound: 2829682281.86621\n",
      "  Upper bound: 2829682281.86621\n",
      "  Number of objectives: 1\n",
      "  Number of constraints: 92\n",
      "  Number of variables: 54\n",
      "  Number of nonzeros: 183\n",
      "  Sense: minimize\n",
      "# ----------------------------------------------------------\n",
      "#   Solver Information\n",
      "# ----------------------------------------------------------\n",
      "Solver: \n",
      "- Status: ok\n",
      "  Termination condition: optimal\n",
      "  Statistics: \n",
      "    Branch and bound: \n",
      "      Number of bounded subproblems: 0\n",
      "      Number of created subproblems: 0\n",
      "  Error rc: 0\n",
      "  Time: 0.7145001888275146\n",
      "# ----------------------------------------------------------\n",
      "#   Solution Information\n",
      "# ----------------------------------------------------------\n",
      "Solution: \n",
      "- number of solutions: 0\n",
      "  number of solutions displayed: 0\n"
     ]
    },
    {
     "name": "stderr",
     "output_type": "stream",
     "text": [
      "/home/sahiljotwani/anaconda3/envs/pypsa-eur/lib/python3.9/site-packages/pypsa/opf.py:1971: FutureWarning: Using the level keyword in DataFrame and Series aggregations is deprecated and will be removed in a future version. Use groupby instead. df.sum(level=1) should use df.groupby(level=1).sum().\n",
      "  pd.concat(\n",
      "/tmp/ipykernel_573/1753688968.py:42: FutureWarning: The frame.append method is deprecated and will be removed from pandas in a future version. Use pandas.concat instead.\n",
      "  storeSeriesData = storeSeriesData.append(network.stores_t.e)\n",
      "INFO:pypsa.opf:Performed preliminary steps\n",
      "INFO:pypsa.opf:Building pyomo model using `kirchhoff` formulation\n",
      "INFO:pypsa.opf:Solving model using glpk\n",
      "INFO:pypsa.opf:Optimization successful\n",
      "/home/sahiljotwani/anaconda3/envs/pypsa-eur/lib/python3.9/site-packages/pypsa/opf.py:1971: FutureWarning: Using the level keyword in DataFrame and Series aggregations is deprecated and will be removed in a future version. Use groupby instead. df.sum(level=1) should use df.groupby(level=1).sum().\n",
      "  pd.concat(\n",
      "/tmp/ipykernel_573/1753688968.py:42: FutureWarning: The frame.append method is deprecated and will be removed from pandas in a future version. Use pandas.concat instead.\n",
      "  storeSeriesData = storeSeriesData.append(network.stores_t.e)\n",
      "INFO:pypsa.opf:Performed preliminary steps\n",
      "INFO:pypsa.opf:Building pyomo model using `kirchhoff` formulation\n"
     ]
    },
    {
     "name": "stdout",
     "output_type": "stream",
     "text": [
      "# ==========================================================\n",
      "# = Solver Results                                         =\n",
      "# ==========================================================\n",
      "# ----------------------------------------------------------\n",
      "#   Problem Information\n",
      "# ----------------------------------------------------------\n",
      "Problem: \n",
      "- Name: unknown\n",
      "  Lower bound: 2862280261.26851\n",
      "  Upper bound: 2862280261.26851\n",
      "  Number of objectives: 1\n",
      "  Number of constraints: 91\n",
      "  Number of variables: 54\n",
      "  Number of nonzeros: 181\n",
      "  Sense: minimize\n",
      "# ----------------------------------------------------------\n",
      "#   Solver Information\n",
      "# ----------------------------------------------------------\n",
      "Solver: \n",
      "- Status: ok\n",
      "  Termination condition: optimal\n",
      "  Statistics: \n",
      "    Branch and bound: \n",
      "      Number of bounded subproblems: 0\n",
      "      Number of created subproblems: 0\n",
      "  Error rc: 0\n",
      "  Time: 0.7183387279510498\n",
      "# ----------------------------------------------------------\n",
      "#   Solution Information\n",
      "# ----------------------------------------------------------\n",
      "Solution: \n",
      "- number of solutions: 0\n",
      "  number of solutions displayed: 0\n"
     ]
    },
    {
     "name": "stderr",
     "output_type": "stream",
     "text": [
      "INFO:pypsa.opf:Solving model using glpk\n",
      "INFO:pypsa.opf:Optimization successful\n",
      "/home/sahiljotwani/anaconda3/envs/pypsa-eur/lib/python3.9/site-packages/pypsa/opf.py:1971: FutureWarning: Using the level keyword in DataFrame and Series aggregations is deprecated and will be removed in a future version. Use groupby instead. df.sum(level=1) should use df.groupby(level=1).sum().\n",
      "  pd.concat(\n",
      "/tmp/ipykernel_573/1753688968.py:42: FutureWarning: The frame.append method is deprecated and will be removed from pandas in a future version. Use pandas.concat instead.\n",
      "  storeSeriesData = storeSeriesData.append(network.stores_t.e)\n",
      "INFO:pypsa.opf:Performed preliminary steps\n",
      "INFO:pypsa.opf:Building pyomo model using `kirchhoff` formulation\n"
     ]
    },
    {
     "name": "stdout",
     "output_type": "stream",
     "text": [
      "# ==========================================================\n",
      "# = Solver Results                                         =\n",
      "# ==========================================================\n",
      "# ----------------------------------------------------------\n",
      "#   Problem Information\n",
      "# ----------------------------------------------------------\n",
      "Problem: \n",
      "- Name: unknown\n",
      "  Lower bound: 3730458690.77235\n",
      "  Upper bound: 3730458690.77235\n",
      "  Number of objectives: 1\n",
      "  Number of constraints: 91\n",
      "  Number of variables: 54\n",
      "  Number of nonzeros: 181\n",
      "  Sense: minimize\n",
      "# ----------------------------------------------------------\n",
      "#   Solver Information\n",
      "# ----------------------------------------------------------\n",
      "Solver: \n",
      "- Status: ok\n",
      "  Termination condition: optimal\n",
      "  Statistics: \n",
      "    Branch and bound: \n",
      "      Number of bounded subproblems: 0\n",
      "      Number of created subproblems: 0\n",
      "  Error rc: 0\n",
      "  Time: 0.7100765705108643\n",
      "# ----------------------------------------------------------\n",
      "#   Solution Information\n",
      "# ----------------------------------------------------------\n",
      "Solution: \n",
      "- number of solutions: 0\n",
      "  number of solutions displayed: 0\n"
     ]
    },
    {
     "name": "stderr",
     "output_type": "stream",
     "text": [
      "INFO:pypsa.opf:Solving model using glpk\n",
      "INFO:pypsa.opf:Optimization successful\n",
      "/home/sahiljotwani/anaconda3/envs/pypsa-eur/lib/python3.9/site-packages/pypsa/opf.py:1971: FutureWarning: Using the level keyword in DataFrame and Series aggregations is deprecated and will be removed in a future version. Use groupby instead. df.sum(level=1) should use df.groupby(level=1).sum().\n",
      "  pd.concat(\n",
      "/tmp/ipykernel_573/1753688968.py:42: FutureWarning: The frame.append method is deprecated and will be removed from pandas in a future version. Use pandas.concat instead.\n",
      "  storeSeriesData = storeSeriesData.append(network.stores_t.e)\n",
      "INFO:pypsa.opf:Performed preliminary steps\n",
      "INFO:pypsa.opf:Building pyomo model using `kirchhoff` formulation\n"
     ]
    },
    {
     "name": "stdout",
     "output_type": "stream",
     "text": [
      "# ==========================================================\n",
      "# = Solver Results                                         =\n",
      "# ==========================================================\n",
      "# ----------------------------------------------------------\n",
      "#   Problem Information\n",
      "# ----------------------------------------------------------\n",
      "Problem: \n",
      "- Name: unknown\n",
      "  Lower bound: 3016687818.88285\n",
      "  Upper bound: 3016687818.88285\n",
      "  Number of objectives: 1\n",
      "  Number of constraints: 91\n",
      "  Number of variables: 54\n",
      "  Number of nonzeros: 181\n",
      "  Sense: minimize\n",
      "# ----------------------------------------------------------\n",
      "#   Solver Information\n",
      "# ----------------------------------------------------------\n",
      "Solver: \n",
      "- Status: ok\n",
      "  Termination condition: optimal\n",
      "  Statistics: \n",
      "    Branch and bound: \n",
      "      Number of bounded subproblems: 0\n",
      "      Number of created subproblems: 0\n",
      "  Error rc: 0\n",
      "  Time: 0.7402160167694092\n",
      "# ----------------------------------------------------------\n",
      "#   Solution Information\n",
      "# ----------------------------------------------------------\n",
      "Solution: \n",
      "- number of solutions: 0\n",
      "  number of solutions displayed: 0\n"
     ]
    },
    {
     "name": "stderr",
     "output_type": "stream",
     "text": [
      "INFO:pypsa.opf:Solving model using glpk\n",
      "INFO:pypsa.opf:Optimization successful\n"
     ]
    },
    {
     "name": "stdout",
     "output_type": "stream",
     "text": [
      "# ==========================================================\n",
      "# = Solver Results                                         =\n",
      "# ==========================================================\n",
      "# ----------------------------------------------------------\n",
      "#   Problem Information\n",
      "# ----------------------------------------------------------\n",
      "Problem: \n",
      "- Name: unknown\n",
      "  Lower bound: 2227460076.22702\n",
      "  Upper bound: 2227460076.22702\n",
      "  Number of objectives: 1\n",
      "  Number of constraints: 91\n",
      "  Number of variables: 54\n",
      "  Number of nonzeros: 181\n",
      "  Sense: minimize\n",
      "# ----------------------------------------------------------\n",
      "#   Solver Information\n",
      "# ----------------------------------------------------------\n",
      "Solver: \n",
      "- Status: ok\n",
      "  Termination condition: optimal\n",
      "  Statistics: \n",
      "    Branch and bound: \n",
      "      Number of bounded subproblems: 0\n",
      "      Number of created subproblems: 0\n",
      "  Error rc: 0\n",
      "  Time: 0.8762130737304688\n",
      "# ----------------------------------------------------------\n",
      "#   Solution Information\n",
      "# ----------------------------------------------------------\n",
      "Solution: \n",
      "- number of solutions: 0\n",
      "  number of solutions displayed: 0\n"
     ]
    },
    {
     "name": "stderr",
     "output_type": "stream",
     "text": [
      "/home/sahiljotwani/anaconda3/envs/pypsa-eur/lib/python3.9/site-packages/pypsa/opf.py:1971: FutureWarning: Using the level keyword in DataFrame and Series aggregations is deprecated and will be removed in a future version. Use groupby instead. df.sum(level=1) should use df.groupby(level=1).sum().\n",
      "  pd.concat(\n",
      "/tmp/ipykernel_573/1753688968.py:42: FutureWarning: The frame.append method is deprecated and will be removed from pandas in a future version. Use pandas.concat instead.\n",
      "  storeSeriesData = storeSeriesData.append(network.stores_t.e)\n",
      "INFO:pypsa.opf:Performed preliminary steps\n",
      "INFO:pypsa.opf:Building pyomo model using `kirchhoff` formulation\n",
      "INFO:pypsa.opf:Solving model using glpk\n",
      "INFO:pypsa.opf:Optimization successful\n"
     ]
    },
    {
     "name": "stdout",
     "output_type": "stream",
     "text": [
      "# ==========================================================\n",
      "# = Solver Results                                         =\n",
      "# ==========================================================\n",
      "# ----------------------------------------------------------\n",
      "#   Problem Information\n",
      "# ----------------------------------------------------------\n",
      "Problem: \n",
      "- Name: unknown\n",
      "  Lower bound: 6292170713.3896\n",
      "  Upper bound: 6292170713.3896\n",
      "  Number of objectives: 1\n",
      "  Number of constraints: 92\n",
      "  Number of variables: 54\n",
      "  Number of nonzeros: 183\n",
      "  Sense: minimize\n",
      "# ----------------------------------------------------------\n",
      "#   Solver Information\n",
      "# ----------------------------------------------------------\n",
      "Solver: \n",
      "- Status: ok\n",
      "  Termination condition: optimal\n",
      "  Statistics: \n",
      "    Branch and bound: \n",
      "      Number of bounded subproblems: 0\n",
      "      Number of created subproblems: 0\n",
      "  Error rc: 0\n",
      "  Time: 0.9621889591217041\n",
      "# ----------------------------------------------------------\n",
      "#   Solution Information\n",
      "# ----------------------------------------------------------\n",
      "Solution: \n",
      "- number of solutions: 0\n",
      "  number of solutions displayed: 0\n"
     ]
    },
    {
     "name": "stderr",
     "output_type": "stream",
     "text": [
      "/home/sahiljotwani/anaconda3/envs/pypsa-eur/lib/python3.9/site-packages/pypsa/opf.py:1971: FutureWarning: Using the level keyword in DataFrame and Series aggregations is deprecated and will be removed in a future version. Use groupby instead. df.sum(level=1) should use df.groupby(level=1).sum().\n",
      "  pd.concat(\n",
      "/tmp/ipykernel_573/1753688968.py:42: FutureWarning: The frame.append method is deprecated and will be removed from pandas in a future version. Use pandas.concat instead.\n",
      "  storeSeriesData = storeSeriesData.append(network.stores_t.e)\n",
      "INFO:pypsa.opf:Performed preliminary steps\n",
      "INFO:pypsa.opf:Building pyomo model using `kirchhoff` formulation\n",
      "INFO:pypsa.opf:Solving model using glpk\n",
      "INFO:pypsa.opf:Optimization successful\n"
     ]
    },
    {
     "name": "stdout",
     "output_type": "stream",
     "text": [
      "# ==========================================================\n",
      "# = Solver Results                                         =\n",
      "# ==========================================================\n",
      "# ----------------------------------------------------------\n",
      "#   Problem Information\n",
      "# ----------------------------------------------------------\n",
      "Problem: \n",
      "- Name: unknown\n",
      "  Lower bound: 5766976635.2646\n",
      "  Upper bound: 5766976635.2646\n",
      "  Number of objectives: 1\n",
      "  Number of constraints: 92\n",
      "  Number of variables: 54\n",
      "  Number of nonzeros: 183\n",
      "  Sense: minimize\n",
      "# ----------------------------------------------------------\n",
      "#   Solver Information\n",
      "# ----------------------------------------------------------\n",
      "Solver: \n",
      "- Status: ok\n",
      "  Termination condition: optimal\n",
      "  Statistics: \n",
      "    Branch and bound: \n",
      "      Number of bounded subproblems: 0\n",
      "      Number of created subproblems: 0\n",
      "  Error rc: 0\n",
      "  Time: 0.9685726165771484\n",
      "# ----------------------------------------------------------\n",
      "#   Solution Information\n",
      "# ----------------------------------------------------------\n",
      "Solution: \n",
      "- number of solutions: 0\n",
      "  number of solutions displayed: 0\n"
     ]
    },
    {
     "name": "stderr",
     "output_type": "stream",
     "text": [
      "/home/sahiljotwani/anaconda3/envs/pypsa-eur/lib/python3.9/site-packages/pypsa/opf.py:1971: FutureWarning: Using the level keyword in DataFrame and Series aggregations is deprecated and will be removed in a future version. Use groupby instead. df.sum(level=1) should use df.groupby(level=1).sum().\n",
      "  pd.concat(\n",
      "/tmp/ipykernel_573/1753688968.py:42: FutureWarning: The frame.append method is deprecated and will be removed from pandas in a future version. Use pandas.concat instead.\n",
      "  storeSeriesData = storeSeriesData.append(network.stores_t.e)\n"
     ]
    }
   ],
   "source": [
    "for i in range(7):\n",
    "    #LINKS\n",
    "    #Charger Link\n",
    "    network.add(\n",
    "        \"Link\",\n",
    "        name=\"Link2Store\",\n",
    "        bus0=\"Main\",\n",
    "        bus1=\"StoreIsland\",\n",
    "        capital_cost=parameterBank[i][0]*10**6,\n",
    "        p_nom_extendable=True,\n",
    "        #marginal_cost=0,\n",
    "        efficiency=parameterBank[i][1],\n",
    "    )\n",
    "\n",
    "    #Discharger Link\n",
    "    network.add(\n",
    "        \"Link\",\n",
    "        name=\"Link2Main\",\n",
    "        bus0=\"StoreIsland\",\n",
    "        bus1=\"Main\",\n",
    "        capital_cost=parameterBank[i][2]*10**6,\n",
    "        p_nom_extendable=True,\n",
    "        #marginal_cost=0.01,\n",
    "        efficiency=parameterBank[i][3]\n",
    "    )\n",
    "\n",
    "    #STORE\n",
    "    network.add(\n",
    "        \"Store\",\n",
    "        \"TheStorage\",\n",
    "        bus=\"StoreIsland\",\n",
    "        capital_cost=parameterBank[i][4]*10**6,\n",
    "        e_nom_extendable=True,\n",
    "        e_cyclic=True\n",
    "    )\n",
    "\n",
    "    if i==0 or i==5 or i==6:\n",
    "        network.lopf(extra_functionality=extra_functionality)\n",
    "    else:\n",
    "        network.lopf()\n",
    "\n",
    "    storeSeriesData = storeSeriesData.append(network.stores_t.e)\n",
    "    storeObjectives[i] = network.objective\n",
    "    storeCapacities[i] = network.stores_t.e.max()\n",
    "\n",
    "    network.mremove(\"Store\",[\"TheStorage\"])\n",
    "    network.mremove(\"Link\",[\"Link2Main\",\"Link2Store\"])\n",
    "    \n"
   ]
  },
  {
   "cell_type": "code",
   "execution_count": null,
   "metadata": {},
   "outputs": [],
   "source": []
  },
  {
   "cell_type": "code",
   "execution_count": 48,
   "metadata": {},
   "outputs": [
    {
     "data": {
      "text/html": [
       "<div>\n",
       "<style scoped>\n",
       "    .dataframe tbody tr th:only-of-type {\n",
       "        vertical-align: middle;\n",
       "    }\n",
       "\n",
       "    .dataframe tbody tr th {\n",
       "        vertical-align: top;\n",
       "    }\n",
       "\n",
       "    .dataframe thead th {\n",
       "        text-align: right;\n",
       "    }\n",
       "</style>\n",
       "<table border=\"1\" class=\"dataframe\">\n",
       "  <thead>\n",
       "    <tr style=\"text-align: right;\">\n",
       "      <th>Store</th>\n",
       "      <th>TheStorage</th>\n",
       "    </tr>\n",
       "    <tr>\n",
       "      <th>snapshot</th>\n",
       "      <th></th>\n",
       "    </tr>\n",
       "  </thead>\n",
       "  <tbody>\n",
       "    <tr>\n",
       "      <th>2020-01-01 00:00:00</th>\n",
       "      <td>2556.507388</td>\n",
       "    </tr>\n",
       "    <tr>\n",
       "      <th>2020-01-01 01:00:00</th>\n",
       "      <td>5256.507388</td>\n",
       "    </tr>\n",
       "    <tr>\n",
       "      <th>2020-01-01 02:00:00</th>\n",
       "      <td>7956.507388</td>\n",
       "    </tr>\n",
       "    <tr>\n",
       "      <th>2020-01-01 03:00:00</th>\n",
       "      <td>7956.507388</td>\n",
       "    </tr>\n",
       "    <tr>\n",
       "      <th>2020-01-01 04:00:00</th>\n",
       "      <td>7956.507388</td>\n",
       "    </tr>\n",
       "    <tr>\n",
       "      <th>...</th>\n",
       "      <td>...</td>\n",
       "    </tr>\n",
       "    <tr>\n",
       "      <th>2020-01-01 05:00:00</th>\n",
       "      <td>8006.324519</td>\n",
       "    </tr>\n",
       "    <tr>\n",
       "      <th>2020-01-01 06:00:00</th>\n",
       "      <td>8006.324519</td>\n",
       "    </tr>\n",
       "    <tr>\n",
       "      <th>2020-01-01 07:00:00</th>\n",
       "      <td>6286.984436</td>\n",
       "    </tr>\n",
       "    <tr>\n",
       "      <th>2020-01-01 08:00:00</th>\n",
       "      <td>3354.203936</td>\n",
       "    </tr>\n",
       "    <tr>\n",
       "      <th>2020-01-01 09:00:00</th>\n",
       "      <td>0.000000</td>\n",
       "    </tr>\n",
       "  </tbody>\n",
       "</table>\n",
       "<p>70 rows × 1 columns</p>\n",
       "</div>"
      ],
      "text/plain": [
       "Store                 TheStorage\n",
       "snapshot                        \n",
       "2020-01-01 00:00:00  2556.507388\n",
       "2020-01-01 01:00:00  5256.507388\n",
       "2020-01-01 02:00:00  7956.507388\n",
       "2020-01-01 03:00:00  7956.507388\n",
       "2020-01-01 04:00:00  7956.507388\n",
       "...                          ...\n",
       "2020-01-01 05:00:00  8006.324519\n",
       "2020-01-01 06:00:00  8006.324519\n",
       "2020-01-01 07:00:00  6286.984436\n",
       "2020-01-01 08:00:00  3354.203936\n",
       "2020-01-01 09:00:00     0.000000\n",
       "\n",
       "[70 rows x 1 columns]"
      ]
     },
     "execution_count": 48,
     "metadata": {},
     "output_type": "execute_result"
    }
   ],
   "source": [
    "storeSeriesData"
   ]
  },
  {
   "cell_type": "code",
   "execution_count": 49,
   "metadata": {},
   "outputs": [],
   "source": [
    "storeSeriesData2 = pd.DataFrame()\n",
    "storeSeriesData2['Lithium'] = storeSeriesData.iloc[0:10]\n",
    "storeSeriesData2['Hydrogen'] = storeSeriesData.iloc[10:20]\n",
    "storeSeriesData2['CAES'] = storeSeriesData.iloc[20:30]\n",
    "storeSeriesData2['LAES'] = storeSeriesData.iloc[30:40]\n",
    "storeSeriesData2['ETES'] = storeSeriesData.iloc[40:50]\n",
    "storeSeriesData2['NaS'] = storeSeriesData.iloc[50:60]\n",
    "storeSeriesData2['Fe-Flow'] = storeSeriesData.iloc[60:]\n",
    "\n",
    "storageCapacitiesdf= pd.DataFrame(storeCapacities)\n",
    "storageCapacitiesdf = storageCapacitiesdf.set_axis([\"Lithium\", \"Hydrogen\",\"CAES\",\"LAES\",\"ETES\",\"NaS\",\"Fe-Flow\"], axis=0)\n",
    "storageCapacitiesdf = storageCapacitiesdf.set_axis([\"Capacities\"], axis=1)\n",
    "\n",
    "storageObjectivesdf = pd.DataFrame(storeObjectives)\n",
    "storageObjectivesdf = storageObjectivesdf.set_axis([\"Lithium\", \"Hydrogen\",\"CAES\",\"LAES\",\"ETES\",\"NaS\",\"Fe-Flow\"], axis=0)\n",
    "storageObjectivesdf = storageObjectivesdf.set_axis([\"Objective\"], axis=1)"
   ]
  },
  {
   "cell_type": "code",
   "execution_count": 50,
   "metadata": {},
   "outputs": [
    {
     "data": {
      "text/html": [
       "<div>\n",
       "<style scoped>\n",
       "    .dataframe tbody tr th:only-of-type {\n",
       "        vertical-align: middle;\n",
       "    }\n",
       "\n",
       "    .dataframe tbody tr th {\n",
       "        vertical-align: top;\n",
       "    }\n",
       "\n",
       "    .dataframe thead th {\n",
       "        text-align: right;\n",
       "    }\n",
       "</style>\n",
       "<table border=\"1\" class=\"dataframe\">\n",
       "  <thead>\n",
       "    <tr style=\"text-align: right;\">\n",
       "      <th></th>\n",
       "      <th>Lithium</th>\n",
       "      <th>Hydrogen</th>\n",
       "      <th>CAES</th>\n",
       "      <th>LAES</th>\n",
       "      <th>ETES</th>\n",
       "      <th>NaS</th>\n",
       "      <th>Fe-Flow</th>\n",
       "    </tr>\n",
       "    <tr>\n",
       "      <th>snapshot</th>\n",
       "      <th></th>\n",
       "      <th></th>\n",
       "      <th></th>\n",
       "      <th></th>\n",
       "      <th></th>\n",
       "      <th></th>\n",
       "      <th></th>\n",
       "    </tr>\n",
       "  </thead>\n",
       "  <tbody>\n",
       "    <tr>\n",
       "      <th>2020-01-01 00:00:00</th>\n",
       "      <td>2556.507388</td>\n",
       "      <td>2102.909091</td>\n",
       "      <td>1655.872165</td>\n",
       "      <td>1524.626905</td>\n",
       "      <td>1827.833869</td>\n",
       "      <td>2598.000000</td>\n",
       "      <td>2639.924519</td>\n",
       "    </tr>\n",
       "    <tr>\n",
       "      <th>2020-01-01 01:00:00</th>\n",
       "      <td>5256.507388</td>\n",
       "      <td>4205.818183</td>\n",
       "      <td>3311.744330</td>\n",
       "      <td>3049.253810</td>\n",
       "      <td>3655.667737</td>\n",
       "      <td>5196.000000</td>\n",
       "      <td>5323.124519</td>\n",
       "    </tr>\n",
       "    <tr>\n",
       "      <th>2020-01-01 02:00:00</th>\n",
       "      <td>7956.507388</td>\n",
       "      <td>6308.727274</td>\n",
       "      <td>4967.616495</td>\n",
       "      <td>4573.880715</td>\n",
       "      <td>5483.501606</td>\n",
       "      <td>7794.000000</td>\n",
       "      <td>8006.324519</td>\n",
       "    </tr>\n",
       "    <tr>\n",
       "      <th>2020-01-01 03:00:00</th>\n",
       "      <td>7956.507388</td>\n",
       "      <td>8411.636365</td>\n",
       "      <td>6623.488661</td>\n",
       "      <td>6098.507621</td>\n",
       "      <td>7311.335474</td>\n",
       "      <td>8268.887586</td>\n",
       "      <td>8006.324519</td>\n",
       "    </tr>\n",
       "    <tr>\n",
       "      <th>2020-01-01 04:00:00</th>\n",
       "      <td>7956.507388</td>\n",
       "      <td>10514.545456</td>\n",
       "      <td>8279.360826</td>\n",
       "      <td>7623.134526</td>\n",
       "      <td>9139.169343</td>\n",
       "      <td>8268.887586</td>\n",
       "      <td>8006.324519</td>\n",
       "    </tr>\n",
       "    <tr>\n",
       "      <th>2020-01-01 05:00:00</th>\n",
       "      <td>7956.507388</td>\n",
       "      <td>12246.304568</td>\n",
       "      <td>9840.325195</td>\n",
       "      <td>9147.761431</td>\n",
       "      <td>10591.249358</td>\n",
       "      <td>8268.887586</td>\n",
       "      <td>8006.324519</td>\n",
       "    </tr>\n",
       "    <tr>\n",
       "      <th>2020-01-01 06:00:00</th>\n",
       "      <td>7956.507388</td>\n",
       "      <td>12346.304568</td>\n",
       "      <td>9930.462695</td>\n",
       "      <td>9244.586431</td>\n",
       "      <td>10675.099358</td>\n",
       "      <td>8268.887586</td>\n",
       "      <td>8006.324519</td>\n",
       "    </tr>\n",
       "    <tr>\n",
       "      <th>2020-01-01 07:00:00</th>\n",
       "      <td>6247.865422</td>\n",
       "      <td>9694.963586</td>\n",
       "      <td>7797.918291</td>\n",
       "      <td>7259.332404</td>\n",
       "      <td>8382.645915</td>\n",
       "      <td>6493.162679</td>\n",
       "      <td>6286.984436</td>\n",
       "    </tr>\n",
       "    <tr>\n",
       "      <th>2020-01-01 08:00:00</th>\n",
       "      <td>3333.333333</td>\n",
       "      <td>5172.413793</td>\n",
       "      <td>4160.310637</td>\n",
       "      <td>3872.966692</td>\n",
       "      <td>4472.271914</td>\n",
       "      <td>3464.203233</td>\n",
       "      <td>3354.203936</td>\n",
       "    </tr>\n",
       "    <tr>\n",
       "      <th>2020-01-01 09:00:00</th>\n",
       "      <td>0.000000</td>\n",
       "      <td>0.000000</td>\n",
       "      <td>0.000000</td>\n",
       "      <td>0.000000</td>\n",
       "      <td>0.000000</td>\n",
       "      <td>0.000000</td>\n",
       "      <td>0.000000</td>\n",
       "    </tr>\n",
       "  </tbody>\n",
       "</table>\n",
       "</div>"
      ],
      "text/plain": [
       "                         Lithium      Hydrogen         CAES         LAES  \\\n",
       "snapshot                                                                   \n",
       "2020-01-01 00:00:00  2556.507388   2102.909091  1655.872165  1524.626905   \n",
       "2020-01-01 01:00:00  5256.507388   4205.818183  3311.744330  3049.253810   \n",
       "2020-01-01 02:00:00  7956.507388   6308.727274  4967.616495  4573.880715   \n",
       "2020-01-01 03:00:00  7956.507388   8411.636365  6623.488661  6098.507621   \n",
       "2020-01-01 04:00:00  7956.507388  10514.545456  8279.360826  7623.134526   \n",
       "2020-01-01 05:00:00  7956.507388  12246.304568  9840.325195  9147.761431   \n",
       "2020-01-01 06:00:00  7956.507388  12346.304568  9930.462695  9244.586431   \n",
       "2020-01-01 07:00:00  6247.865422   9694.963586  7797.918291  7259.332404   \n",
       "2020-01-01 08:00:00  3333.333333   5172.413793  4160.310637  3872.966692   \n",
       "2020-01-01 09:00:00     0.000000      0.000000     0.000000     0.000000   \n",
       "\n",
       "                             ETES          NaS      Fe-Flow  \n",
       "snapshot                                                     \n",
       "2020-01-01 00:00:00   1827.833869  2598.000000  2639.924519  \n",
       "2020-01-01 01:00:00   3655.667737  5196.000000  5323.124519  \n",
       "2020-01-01 02:00:00   5483.501606  7794.000000  8006.324519  \n",
       "2020-01-01 03:00:00   7311.335474  8268.887586  8006.324519  \n",
       "2020-01-01 04:00:00   9139.169343  8268.887586  8006.324519  \n",
       "2020-01-01 05:00:00  10591.249358  8268.887586  8006.324519  \n",
       "2020-01-01 06:00:00  10675.099358  8268.887586  8006.324519  \n",
       "2020-01-01 07:00:00   8382.645915  6493.162679  6286.984436  \n",
       "2020-01-01 08:00:00   4472.271914  3464.203233  3354.203936  \n",
       "2020-01-01 09:00:00      0.000000     0.000000     0.000000  "
      ]
     },
     "execution_count": 50,
     "metadata": {},
     "output_type": "execute_result"
    }
   ],
   "source": [
    "storeSeriesData2"
   ]
  },
  {
   "cell_type": "code",
   "execution_count": 51,
   "metadata": {},
   "outputs": [
    {
     "data": {
      "text/plain": [
       "<AxesSubplot:xlabel='Time (hh:mm)', ylabel='Storage Capacity (MWh)'>"
      ]
     },
     "execution_count": 51,
     "metadata": {},
     "output_type": "execute_result"
    },
    {
     "data": {
      "image/png": "[encoded data removed]",
      "text/plain": [
       "<Figure size 432x288 with 1 Axes>"
      ]
     },
     "metadata": {
      "needs_background": "light"
     },
     "output_type": "display_data"
    }
   ],
   "source": [
    "storeSeriesData2.plot(ylabel='Storage Capacity (MWh)', xlabel='Time (hh:mm)')"
   ]
  },
  {
   "cell_type": "code",
   "execution_count": 52,
   "metadata": {},
   "outputs": [
    {
     "data": {
      "text/html": [
       "<div>\n",
       "<style scoped>\n",
       "    .dataframe tbody tr th:only-of-type {\n",
       "        vertical-align: middle;\n",
       "    }\n",
       "\n",
       "    .dataframe tbody tr th {\n",
       "        vertical-align: top;\n",
       "    }\n",
       "\n",
       "    .dataframe thead th {\n",
       "        text-align: right;\n",
       "    }\n",
       "</style>\n",
       "<table border=\"1\" class=\"dataframe\">\n",
       "  <thead>\n",
       "    <tr style=\"text-align: right;\">\n",
       "      <th></th>\n",
       "      <th>Objective</th>\n",
       "    </tr>\n",
       "  </thead>\n",
       "  <tbody>\n",
       "    <tr>\n",
       "      <th>Lithium</th>\n",
       "      <td>2.829682e+09</td>\n",
       "    </tr>\n",
       "    <tr>\n",
       "      <th>Hydrogen</th>\n",
       "      <td>2.862280e+09</td>\n",
       "    </tr>\n",
       "    <tr>\n",
       "      <th>CAES</th>\n",
       "      <td>3.730459e+09</td>\n",
       "    </tr>\n",
       "    <tr>\n",
       "      <th>LAES</th>\n",
       "      <td>3.016688e+09</td>\n",
       "    </tr>\n",
       "    <tr>\n",
       "      <th>ETES</th>\n",
       "      <td>2.227460e+09</td>\n",
       "    </tr>\n",
       "    <tr>\n",
       "      <th>NaS</th>\n",
       "      <td>6.292171e+09</td>\n",
       "    </tr>\n",
       "    <tr>\n",
       "      <th>Fe-Flow</th>\n",
       "      <td>5.766977e+09</td>\n",
       "    </tr>\n",
       "  </tbody>\n",
       "</table>\n",
       "</div>"
      ],
      "text/plain": [
       "             Objective\n",
       "Lithium   2.829682e+09\n",
       "Hydrogen  2.862280e+09\n",
       "CAES      3.730459e+09\n",
       "LAES      3.016688e+09\n",
       "ETES      2.227460e+09\n",
       "NaS       6.292171e+09\n",
       "Fe-Flow   5.766977e+09"
      ]
     },
     "execution_count": 52,
     "metadata": {},
     "output_type": "execute_result"
    }
   ],
   "source": [
    "storageObjectivesdf"
   ]
  },
  {
   "cell_type": "code",
   "execution_count": 53,
   "metadata": {},
   "outputs": [
    {
     "data": {
      "text/plain": [
       "445492015.245404"
      ]
     },
     "execution_count": 53,
     "metadata": {},
     "output_type": "execute_result"
    }
   ],
   "source": [
    "storageObjectivesdf.values.min()*0.2\n"
   ]
  },
  {
   "cell_type": "code",
   "execution_count": 54,
   "metadata": {},
   "outputs": [
    {
     "data": {
      "text/plain": [
       "<AxesSubplot:>"
      ]
     },
     "execution_count": 54,
     "metadata": {},
     "output_type": "execute_result"
    },
    {
     "data": {
      "image/png": "[encoded data removed]",
      "text/plain": [
       "<Figure size 432x288 with 1 Axes>"
      ]
     },
     "metadata": {
      "needs_background": "light"
     },
     "output_type": "display_data"
    }
   ],
   "source": [
    "storageObjectivesdf.plot(kind=\"bar\", \n",
    "    ylim=(storageObjectivesdf.values.min()*0,storageObjectivesdf.values.max()*1.10))"
   ]
  },
  {
   "cell_type": "code",
   "execution_count": 55,
   "metadata": {},
   "outputs": [
    {
     "data": {
      "text/plain": [
       "<AxesSubplot:>"
      ]
     },
     "execution_count": 55,
     "metadata": {},
     "output_type": "execute_result"
    },
    {
     "data": {
      "image/png": "[encoded data removed]",
      "text/plain": [
       "<Figure size 432x288 with 1 Axes>"
      ]
     },
     "metadata": {
      "needs_background": "light"
     },
     "output_type": "display_data"
    }
   ],
   "source": [
    "storageCapacitiesdf.plot(kind=\"bar\")"
   ]
  },
  {
   "cell_type": "code",
   "execution_count": 56,
   "metadata": {},
   "outputs": [],
   "source": [
    "# fig, (ax1, ax2) = plt.subplots(2,1)\n",
    "# ax1.bar(storageObjectivesdf)"
   ]
  }
 ],
 "metadata": {
  "kernelspec": {
   "display_name": "Python 3.9.13 ('pypsa-eur')",
   "language": "python",
   "name": "python3"
  },
  "language_info": {
   "codemirror_mode": {
    "name": "ipython",
    "version": 3
   },
   "file_extension": ".py",
   "mimetype": "text/x-python",
   "name": "python",
   "nbconvert_exporter": "python",
   "pygments_lexer": "ipython3",
   "version": "3.9.13"
  },
  "orig_nbformat": 4,
  "vscode": {
   "interpreter": {
    "hash": "452ce1ff006d241bd9ff1d613b58aca7a1ae78731da5a52f2323f958a70067bd"
   }
  }
 },
 "nbformat": 4,
 "nbformat_minor": 2
}
