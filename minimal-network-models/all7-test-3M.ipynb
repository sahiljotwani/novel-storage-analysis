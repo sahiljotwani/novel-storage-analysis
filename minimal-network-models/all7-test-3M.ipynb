{
 "cells": [
  {
   "cell_type": "code",
   "execution_count": 27,
   "metadata": {},
   "outputs": [
    {
     "data": {
      "text/plain": [
       "DatetimeIndex(['2020-01-01 00:00:00', '2020-01-01 01:00:00',\n",
       "               '2020-01-01 02:00:00', '2020-01-01 03:00:00',\n",
       "               '2020-01-01 04:00:00', '2020-01-01 05:00:00',\n",
       "               '2020-01-01 06:00:00', '2020-01-01 07:00:00',\n",
       "               '2020-01-01 08:00:00', '2020-01-01 09:00:00',\n",
       "               ...\n",
       "               '2020-03-30 14:00:00', '2020-03-30 15:00:00',\n",
       "               '2020-03-30 16:00:00', '2020-03-30 17:00:00',\n",
       "               '2020-03-30 18:00:00', '2020-03-30 19:00:00',\n",
       "               '2020-03-30 20:00:00', '2020-03-30 21:00:00',\n",
       "               '2020-03-30 22:00:00', '2020-03-30 23:00:00'],\n",
       "              dtype='datetime64[ns]', name='snapshot', length=2160, freq='H')"
      ]
     },
     "execution_count": 27,
     "metadata": {},
     "output_type": "execute_result"
    }
   ],
   "source": [
    "import pypsa\n",
    "import numpy as np\n",
    "import pandas as pd\n",
    "import matplotlib.pyplot as plt\n",
    "\n",
    "from pypsa.linopf import *\n",
    "from pypsa.linopt import *\n",
    "\n",
    "from pyomo.environ import Constraint\n",
    "\n",
    "network = pypsa.Network()\n",
    "\n",
    "network.snapshots = pd.date_range(\"2020-01-01 00:00\", \"2020-03-30 23:00\", freq=\"H\")\n",
    "\n",
    "network.snapshots"
   ]
  },
  {
   "cell_type": "code",
   "execution_count": 28,
   "metadata": {},
   "outputs": [],
   "source": [
    "def extra_functionality(network, snapshots):\n",
    "    model = network.model\n",
    "    model.link_fix = Constraint(\n",
    "        rule=lambda model: model.link_p_nom[\"Link2Store\"]\n",
    "        == model.link_p_nom[\"Link2Main\"]* network.links.loc['Link2Main','efficiency'])"
   ]
  },
  {
   "cell_type": "code",
   "execution_count": 29,
   "metadata": {},
   "outputs": [
    {
     "data": {
      "text/html": [
       "<div>\n",
       "<style scoped>\n",
       "    .dataframe tbody tr th:only-of-type {\n",
       "        vertical-align: middle;\n",
       "    }\n",
       "\n",
       "    .dataframe tbody tr th {\n",
       "        vertical-align: top;\n",
       "    }\n",
       "\n",
       "    .dataframe thead th {\n",
       "        text-align: right;\n",
       "    }\n",
       "</style>\n",
       "<table border=\"1\" class=\"dataframe\">\n",
       "  <thead>\n",
       "    <tr style=\"text-align: right;\">\n",
       "      <th>attribute</th>\n",
       "      <th>v_nom</th>\n",
       "      <th>type</th>\n",
       "      <th>x</th>\n",
       "      <th>y</th>\n",
       "      <th>carrier</th>\n",
       "      <th>unit</th>\n",
       "      <th>v_mag_pu_set</th>\n",
       "      <th>v_mag_pu_min</th>\n",
       "      <th>v_mag_pu_max</th>\n",
       "      <th>control</th>\n",
       "      <th>sub_network</th>\n",
       "    </tr>\n",
       "    <tr>\n",
       "      <th>Bus</th>\n",
       "      <th></th>\n",
       "      <th></th>\n",
       "      <th></th>\n",
       "      <th></th>\n",
       "      <th></th>\n",
       "      <th></th>\n",
       "      <th></th>\n",
       "      <th></th>\n",
       "      <th></th>\n",
       "      <th></th>\n",
       "      <th></th>\n",
       "    </tr>\n",
       "  </thead>\n",
       "  <tbody>\n",
       "    <tr>\n",
       "      <th>Main</th>\n",
       "      <td>380.0</td>\n",
       "      <td></td>\n",
       "      <td>0.0</td>\n",
       "      <td>0.0</td>\n",
       "      <td>AC</td>\n",
       "      <td>None</td>\n",
       "      <td>1.0</td>\n",
       "      <td>0.0</td>\n",
       "      <td>inf</td>\n",
       "      <td>PQ</td>\n",
       "      <td></td>\n",
       "    </tr>\n",
       "  </tbody>\n",
       "</table>\n",
       "</div>"
      ],
      "text/plain": [
       "attribute  v_nom type    x    y carrier  unit  v_mag_pu_set  v_mag_pu_min  \\\n",
       "Bus                                                                         \n",
       "Main       380.0       0.0  0.0      AC  None           1.0           0.0   \n",
       "\n",
       "attribute  v_mag_pu_max control sub_network  \n",
       "Bus                                          \n",
       "Main                inf      PQ              "
      ]
     },
     "execution_count": 29,
     "metadata": {},
     "output_type": "execute_result"
    }
   ],
   "source": [
    "network.add(\"Bus\", \"Main\", v_nom=380)\n",
    "network.buses"
   ]
  },
  {
   "cell_type": "code",
   "execution_count": 30,
   "metadata": {},
   "outputs": [],
   "source": [
    "network.add(\n",
    "    \"Load\", \n",
    "    name=\"TotalLoads\", \n",
    "    bus=\"Main\", \n",
    "    p_set=23000)\n",
    "    # p_set=[25200,25200,25200,25200,25200,25200,25200,25200,25200,25200,])"
   ]
  },
  {
   "cell_type": "code",
   "execution_count": 31,
   "metadata": {},
   "outputs": [],
   "source": [
    "network.add(\n",
    "    \"Generator\", \n",
    "    name=\"TotalGenerators\", \n",
    "    bus=\"Main\", \n",
    "    p_nom=32500,\n",
    "    #p_max_pu=[1,0.978593,0.948012,0.88685,0.8104,0.7034,0.6422,0.62691,0.61468,0.60856],\n",
    "    p_max_pu=(6250*np.cos(np.linspace(0,9,num=720*3)*(np.pi/9))+26250)/32500,\n",
    "    capital_cost=1.04*10**6,\n",
    "    efficiency=1,\n",
    "    marginal_cost=2.3,\n",
    "    carrier=\"AC\")"
   ]
  },
  {
   "cell_type": "code",
   "execution_count": 32,
   "metadata": {},
   "outputs": [
    {
     "data": {
      "image/png": "[encoded data removed]",
      "text/plain": [
       "<Figure size 432x288 with 1 Axes>"
      ]
     },
     "metadata": {
      "needs_background": "light"
     },
     "output_type": "display_data"
    }
   ],
   "source": [
    "network.generators_t.p_max_pu.plot.area(subplots=True)\n",
    "plt.tight_layout()"
   ]
  },
  {
   "cell_type": "code",
   "execution_count": 33,
   "metadata": {},
   "outputs": [],
   "source": [
    "network.add(\"Bus\", \"StoreIsland\", carrier=\"AC\")\n",
    "#parameterBank parameters = [Link 1 capital_cost, Link 1 efficiency, Link 2 capital_cost, Link 2 efficiency, Store capital costs]\n",
    "parameterBank = [[0.2055  , 0.9     , 0.2055  , 0.9     , 0.192   ], #Lithium\n",
    "       [0.35    , 0.8     , 0.35    , 0.58    , 0.01064 ], #H2\n",
    "       [0.462238, 0.7211  , 0.633112, 0.7211  , 0.003477], #CAES\n",
    "       [0.367   , 0.7746  , 0.367   , 0.7746  , 0.09437 ], #LAES\n",
    "       [0.17766 , 0.6708  , 0.17766 , 0.6708  , 0.08883 ], #ETES\n",
    "       [0.176515, 0.866   , 0.176515, 0.866   , 0.62289 ], #NaS\n",
    "       [0.75    , 0.8944  , 0.75    , 0.8944  , 0.125   ]] #Fe-Flow\n",
    "storeSeriesData = pd.DataFrame()\n",
    "storeObjectives = [0 for a in range(7)]\n",
    "storeCapacities = [0 for a in range(7)]\n",
    "#columnNames = ['LIB','H2']"
   ]
  },
  {
   "cell_type": "code",
   "execution_count": 34,
   "metadata": {},
   "outputs": [
    {
     "name": "stderr",
     "output_type": "stream",
     "text": [
      "INFO:pypsa.opf:Performed preliminary steps\n",
      "INFO:pypsa.opf:Building pyomo model using `kirchhoff` formulation\n",
      "INFO:pypsa.opf:Solving model using glpk\n",
      "INFO:pypsa.opf:Optimization successful\n"
     ]
    },
    {
     "name": "stdout",
     "output_type": "stream",
     "text": [
      "# ==========================================================\n",
      "# = Solver Results                                         =\n",
      "# ==========================================================\n",
      "# ----------------------------------------------------------\n",
      "#   Problem Information\n",
      "# ----------------------------------------------------------\n",
      "Problem: \n",
      "- Name: unknown\n",
      "  Lower bound: 296526290235.332\n",
      "  Upper bound: 296526290235.332\n",
      "  Number of objectives: 1\n",
      "  Number of constraints: 19442\n",
      "  Number of variables: 10804\n",
      "  Number of nonzeros: 38883\n",
      "  Sense: minimize\n",
      "# ----------------------------------------------------------\n",
      "#   Solver Information\n",
      "# ----------------------------------------------------------\n",
      "Solver: \n",
      "- Status: ok\n",
      "  Termination condition: optimal\n",
      "  Statistics: \n",
      "    Branch and bound: \n",
      "      Number of bounded subproblems: 0\n",
      "      Number of created subproblems: 0\n",
      "  Error rc: 0\n",
      "  Time: 2.6498239040374756\n",
      "# ----------------------------------------------------------\n",
      "#   Solution Information\n",
      "# ----------------------------------------------------------\n",
      "Solution: \n",
      "- number of solutions: 0\n",
      "  number of solutions displayed: 0\n"
     ]
    },
    {
     "name": "stderr",
     "output_type": "stream",
     "text": [
      "/home/sahiljotwani/anaconda3/envs/pypsa-eur/lib/python3.9/site-packages/pypsa/opf.py:1971: FutureWarning: Using the level keyword in DataFrame and Series aggregations is deprecated and will be removed in a future version. Use groupby instead. df.sum(level=1) should use df.groupby(level=1).sum().\n",
      "  pd.concat(\n",
      "/tmp/ipykernel_558/3625517449.py:44: FutureWarning: The frame.append method is deprecated and will be removed from pandas in a future version. Use pandas.concat instead.\n",
      "  storeSeriesData = storeSeriesData.append(network.stores_t.e)\n",
      "INFO:pypsa.opf:Performed preliminary steps\n",
      "INFO:pypsa.opf:Building pyomo model using `kirchhoff` formulation\n"
     ]
    },
    {
     "name": "stdout",
     "output_type": "stream",
     "text": [
      "attribute          bus0         bus1 type carrier  efficiency  build_year  \\\n",
      "Link                                                                        \n",
      "Link2Store         Main  StoreIsland           AC         0.9           0   \n",
      "Link2Main   StoreIsland         Main           AC         0.9           0   \n",
      "\n",
      "attribute   lifetime  p_nom  p_nom_extendable  p_nom_min  ...  p_set  \\\n",
      "Link                                                      ...          \n",
      "Link2Store       inf    0.0              True        0.0  ...    0.0   \n",
      "Link2Main        inf    0.0              True        0.0  ...    0.0   \n",
      "\n",
      "attribute   p_min_pu  p_max_pu  capital_cost  marginal_cost  length  \\\n",
      "Link                                                                  \n",
      "Link2Store       0.0       1.0      205500.0            0.0     0.0   \n",
      "Link2Main        0.0       1.0      205500.0            0.0     0.0   \n",
      "\n",
      "attribute   terrain_factor  ramp_limit_up  ramp_limit_down    p_nom_opt  \n",
      "Link                                                                     \n",
      "Link2Store             1.0            NaN              NaN  3000.000000  \n",
      "Link2Main              1.0            NaN              NaN  3333.333333  \n",
      "\n",
      "[2 rows x 21 columns]\n"
     ]
    },
    {
     "name": "stderr",
     "output_type": "stream",
     "text": [
      "INFO:pypsa.opf:Solving model using glpk\n",
      "INFO:pypsa.opf:Optimization successful\n"
     ]
    },
    {
     "name": "stdout",
     "output_type": "stream",
     "text": [
      "# ==========================================================\n",
      "# = Solver Results                                         =\n",
      "# ==========================================================\n",
      "# ----------------------------------------------------------\n",
      "#   Problem Information\n",
      "# ----------------------------------------------------------\n",
      "Problem: \n",
      "- Name: unknown\n",
      "  Lower bound: 28096033489.7965\n",
      "  Upper bound: 28096033489.7965\n",
      "  Number of objectives: 1\n",
      "  Number of constraints: 19441\n",
      "  Number of variables: 10804\n",
      "  Number of nonzeros: 38881\n",
      "  Sense: minimize\n",
      "# ----------------------------------------------------------\n",
      "#   Solver Information\n",
      "# ----------------------------------------------------------\n",
      "Solver: \n",
      "- Status: ok\n",
      "  Termination condition: optimal\n",
      "  Statistics: \n",
      "    Branch and bound: \n",
      "      Number of bounded subproblems: 0\n",
      "      Number of created subproblems: 0\n",
      "  Error rc: 0\n",
      "  Time: 3.4386494159698486\n",
      "# ----------------------------------------------------------\n",
      "#   Solution Information\n",
      "# ----------------------------------------------------------\n",
      "Solution: \n",
      "- number of solutions: 0\n",
      "  number of solutions displayed: 0\n"
     ]
    },
    {
     "name": "stderr",
     "output_type": "stream",
     "text": [
      "/home/sahiljotwani/anaconda3/envs/pypsa-eur/lib/python3.9/site-packages/pypsa/opf.py:1971: FutureWarning: Using the level keyword in DataFrame and Series aggregations is deprecated and will be removed in a future version. Use groupby instead. df.sum(level=1) should use df.groupby(level=1).sum().\n",
      "  pd.concat(\n",
      "/tmp/ipykernel_558/3625517449.py:44: FutureWarning: The frame.append method is deprecated and will be removed from pandas in a future version. Use pandas.concat instead.\n",
      "  storeSeriesData = storeSeriesData.append(network.stores_t.e)\n",
      "INFO:pypsa.opf:Performed preliminary steps\n",
      "INFO:pypsa.opf:Building pyomo model using `kirchhoff` formulation\n"
     ]
    },
    {
     "name": "stdout",
     "output_type": "stream",
     "text": [
      "attribute          bus0         bus1 type carrier  efficiency  build_year  \\\n",
      "Link                                                                        \n",
      "Link2Store         Main  StoreIsland           AC        0.80           0   \n",
      "Link2Main   StoreIsland         Main           AC        0.58           0   \n",
      "\n",
      "attribute   lifetime  p_nom  p_nom_extendable  p_nom_min  ...  p_set  \\\n",
      "Link                                                      ...          \n",
      "Link2Store       inf    0.0              True        0.0  ...    0.0   \n",
      "Link2Main        inf    0.0              True        0.0  ...    0.0   \n",
      "\n",
      "attribute   p_min_pu  p_max_pu  capital_cost  marginal_cost  length  \\\n",
      "Link                                                                  \n",
      "Link2Store       0.0       1.0      350000.0            0.0     0.0   \n",
      "Link2Main        0.0       1.0      350000.0            0.0     0.0   \n",
      "\n",
      "attribute   terrain_factor  ramp_limit_up  ramp_limit_down    p_nom_opt  \n",
      "Link                                                                     \n",
      "Link2Store             1.0            NaN              NaN  2259.577948  \n",
      "Link2Main              1.0            NaN              NaN  5172.413793  \n",
      "\n",
      "[2 rows x 21 columns]\n"
     ]
    },
    {
     "name": "stderr",
     "output_type": "stream",
     "text": [
      "INFO:pypsa.opf:Solving model using glpk\n",
      "INFO:pypsa.opf:Optimization successful\n"
     ]
    },
    {
     "name": "stdout",
     "output_type": "stream",
     "text": [
      "# ==========================================================\n",
      "# = Solver Results                                         =\n",
      "# ==========================================================\n",
      "# ----------------------------------------------------------\n",
      "#   Problem Information\n",
      "# ----------------------------------------------------------\n",
      "Problem: \n",
      "- Name: unknown\n",
      "  Lower bound: 10342524801.0599\n",
      "  Upper bound: 10342524801.0599\n",
      "  Number of objectives: 1\n",
      "  Number of constraints: 19441\n",
      "  Number of variables: 10804\n",
      "  Number of nonzeros: 38881\n",
      "  Sense: minimize\n",
      "# ----------------------------------------------------------\n",
      "#   Solver Information\n",
      "# ----------------------------------------------------------\n",
      "Solver: \n",
      "- Status: ok\n",
      "  Termination condition: optimal\n",
      "  Statistics: \n",
      "    Branch and bound: \n",
      "      Number of bounded subproblems: 0\n",
      "      Number of created subproblems: 0\n",
      "  Error rc: 0\n",
      "  Time: 3.8839948177337646\n",
      "# ----------------------------------------------------------\n",
      "#   Solution Information\n",
      "# ----------------------------------------------------------\n",
      "Solution: \n",
      "- number of solutions: 0\n",
      "  number of solutions displayed: 0\n"
     ]
    },
    {
     "name": "stderr",
     "output_type": "stream",
     "text": [
      "/home/sahiljotwani/anaconda3/envs/pypsa-eur/lib/python3.9/site-packages/pypsa/opf.py:1971: FutureWarning: Using the level keyword in DataFrame and Series aggregations is deprecated and will be removed in a future version. Use groupby instead. df.sum(level=1) should use df.groupby(level=1).sum().\n",
      "  pd.concat(\n",
      "/tmp/ipykernel_558/3625517449.py:44: FutureWarning: The frame.append method is deprecated and will be removed from pandas in a future version. Use pandas.concat instead.\n",
      "  storeSeriesData = storeSeriesData.append(network.stores_t.e)\n",
      "INFO:pypsa.opf:Performed preliminary steps\n",
      "INFO:pypsa.opf:Building pyomo model using `kirchhoff` formulation\n"
     ]
    },
    {
     "name": "stdout",
     "output_type": "stream",
     "text": [
      "attribute          bus0         bus1 type carrier  efficiency  build_year  \\\n",
      "Link                                                                        \n",
      "Link2Store         Main  StoreIsland           AC      0.7211           0   \n",
      "Link2Main   StoreIsland         Main           AC      0.7211           0   \n",
      "\n",
      "attribute   lifetime  p_nom  p_nom_extendable  p_nom_min  ...  p_set  \\\n",
      "Link                                                      ...          \n",
      "Link2Store       inf    0.0              True        0.0  ...    0.0   \n",
      "Link2Main        inf    0.0              True        0.0  ...    0.0   \n",
      "\n",
      "attribute   p_min_pu  p_max_pu  capital_cost  marginal_cost  length  \\\n",
      "Link                                                                  \n",
      "Link2Store       0.0       1.0      462238.0            0.0     0.0   \n",
      "Link2Main        0.0       1.0      633112.0            0.0     0.0   \n",
      "\n",
      "attribute   terrain_factor  ramp_limit_up  ramp_limit_down    p_nom_opt  \n",
      "Link                                                                     \n",
      "Link2Store             1.0            NaN              NaN  1993.030673  \n",
      "Link2Main              1.0            NaN              NaN  4160.310637  \n",
      "\n",
      "[2 rows x 21 columns]\n"
     ]
    },
    {
     "name": "stderr",
     "output_type": "stream",
     "text": [
      "INFO:pypsa.opf:Solving model using glpk\n",
      "INFO:pypsa.opf:Optimization successful\n"
     ]
    },
    {
     "name": "stdout",
     "output_type": "stream",
     "text": [
      "# ==========================================================\n",
      "# = Solver Results                                         =\n",
      "# ==========================================================\n",
      "# ----------------------------------------------------------\n",
      "#   Problem Information\n",
      "# ----------------------------------------------------------\n",
      "Problem: \n",
      "- Name: unknown\n",
      "  Lower bound: 170695402216.87\n",
      "  Upper bound: 170695402216.87\n",
      "  Number of objectives: 1\n",
      "  Number of constraints: 19441\n",
      "  Number of variables: 10804\n",
      "  Number of nonzeros: 38881\n",
      "  Sense: minimize\n",
      "# ----------------------------------------------------------\n",
      "#   Solver Information\n",
      "# ----------------------------------------------------------\n",
      "Solver: \n",
      "- Status: ok\n",
      "  Termination condition: optimal\n",
      "  Statistics: \n",
      "    Branch and bound: \n",
      "      Number of bounded subproblems: 0\n",
      "      Number of created subproblems: 0\n",
      "  Error rc: 0\n",
      "  Time: 3.150216817855835\n",
      "# ----------------------------------------------------------\n",
      "#   Solution Information\n",
      "# ----------------------------------------------------------\n",
      "Solution: \n",
      "- number of solutions: 0\n",
      "  number of solutions displayed: 0\n"
     ]
    },
    {
     "name": "stderr",
     "output_type": "stream",
     "text": [
      "/home/sahiljotwani/anaconda3/envs/pypsa-eur/lib/python3.9/site-packages/pypsa/opf.py:1971: FutureWarning: Using the level keyword in DataFrame and Series aggregations is deprecated and will be removed in a future version. Use groupby instead. df.sum(level=1) should use df.groupby(level=1).sum().\n",
      "  pd.concat(\n",
      "/tmp/ipykernel_558/3625517449.py:44: FutureWarning: The frame.append method is deprecated and will be removed from pandas in a future version. Use pandas.concat instead.\n",
      "  storeSeriesData = storeSeriesData.append(network.stores_t.e)\n",
      "INFO:pypsa.opf:Performed preliminary steps\n",
      "INFO:pypsa.opf:Building pyomo model using `kirchhoff` formulation\n"
     ]
    },
    {
     "name": "stdout",
     "output_type": "stream",
     "text": [
      "attribute          bus0         bus1 type carrier  efficiency  build_year  \\\n",
      "Link                                                                        \n",
      "Link2Store         Main  StoreIsland           AC      0.7746           0   \n",
      "Link2Main   StoreIsland         Main           AC      0.7746           0   \n",
      "\n",
      "attribute   lifetime  p_nom  p_nom_extendable  p_nom_min  ...  p_set  \\\n",
      "Link                                                      ...          \n",
      "Link2Store       inf    0.0              True        0.0  ...    0.0   \n",
      "Link2Main        inf    0.0              True        0.0  ...    0.0   \n",
      "\n",
      "attribute   p_min_pu  p_max_pu  capital_cost  marginal_cost  length  \\\n",
      "Link                                                                  \n",
      "Link2Store       0.0       1.0      367000.0            0.0     0.0   \n",
      "Link2Main        0.0       1.0      367000.0            0.0     0.0   \n",
      "\n",
      "attribute   terrain_factor  ramp_limit_up  ramp_limit_down    p_nom_opt  \n",
      "Link                                                                     \n",
      "Link2Store             1.0            NaN              NaN  1705.825105  \n",
      "Link2Main              1.0            NaN              NaN  3872.966692  \n",
      "\n",
      "[2 rows x 21 columns]\n"
     ]
    },
    {
     "name": "stderr",
     "output_type": "stream",
     "text": [
      "INFO:pypsa.opf:Solving model using glpk\n",
      "INFO:pypsa.opf:Optimization successful\n"
     ]
    },
    {
     "name": "stdout",
     "output_type": "stream",
     "text": [
      "# ==========================================================\n",
      "# = Solver Results                                         =\n",
      "# ==========================================================\n",
      "# ----------------------------------------------------------\n",
      "#   Problem Information\n",
      "# ----------------------------------------------------------\n",
      "Problem: \n",
      "- Name: unknown\n",
      "  Lower bound: 184513734727.93\n",
      "  Upper bound: 184513734727.93\n",
      "  Number of objectives: 1\n",
      "  Number of constraints: 19441\n",
      "  Number of variables: 10804\n",
      "  Number of nonzeros: 38881\n",
      "  Sense: minimize\n",
      "# ----------------------------------------------------------\n",
      "#   Solver Information\n",
      "# ----------------------------------------------------------\n",
      "Solver: \n",
      "- Status: ok\n",
      "  Termination condition: optimal\n",
      "  Statistics: \n",
      "    Branch and bound: \n",
      "      Number of bounded subproblems: 0\n",
      "      Number of created subproblems: 0\n",
      "  Error rc: 0\n",
      "  Time: 3.0377132892608643\n",
      "# ----------------------------------------------------------\n",
      "#   Solution Information\n",
      "# ----------------------------------------------------------\n",
      "Solution: \n",
      "- number of solutions: 0\n",
      "  number of solutions displayed: 0\n"
     ]
    },
    {
     "name": "stderr",
     "output_type": "stream",
     "text": [
      "/home/sahiljotwani/anaconda3/envs/pypsa-eur/lib/python3.9/site-packages/pypsa/opf.py:1971: FutureWarning: Using the level keyword in DataFrame and Series aggregations is deprecated and will be removed in a future version. Use groupby instead. df.sum(level=1) should use df.groupby(level=1).sum().\n",
      "  pd.concat(\n",
      "/tmp/ipykernel_558/3625517449.py:44: FutureWarning: The frame.append method is deprecated and will be removed from pandas in a future version. Use pandas.concat instead.\n",
      "  storeSeriesData = storeSeriesData.append(network.stores_t.e)\n",
      "INFO:pypsa.opf:Performed preliminary steps\n",
      "INFO:pypsa.opf:Building pyomo model using `kirchhoff` formulation\n"
     ]
    },
    {
     "name": "stdout",
     "output_type": "stream",
     "text": [
      "attribute          bus0         bus1 type carrier  efficiency  build_year  \\\n",
      "Link                                                                        \n",
      "Link2Store         Main  StoreIsland           AC      0.6708           0   \n",
      "Link2Main   StoreIsland         Main           AC      0.6708           0   \n",
      "\n",
      "attribute   lifetime  p_nom  p_nom_extendable  p_nom_min  ...  p_set  \\\n",
      "Link                                                      ...          \n",
      "Link2Store       inf    0.0              True        0.0  ...    0.0   \n",
      "Link2Main        inf    0.0              True        0.0  ...    0.0   \n",
      "\n",
      "attribute   p_min_pu  p_max_pu  capital_cost  marginal_cost  length  \\\n",
      "Link                                                                  \n",
      "Link2Store       0.0       1.0      177660.0            0.0     0.0   \n",
      "Link2Main        0.0       1.0      177660.0            0.0     0.0   \n",
      "\n",
      "attribute   terrain_factor  ramp_limit_up  ramp_limit_down    p_nom_opt  \n",
      "Link                                                                     \n",
      "Link2Store             1.0            NaN              NaN  2338.007226  \n",
      "Link2Main              1.0            NaN              NaN  4472.271914  \n",
      "\n",
      "[2 rows x 21 columns]\n"
     ]
    },
    {
     "name": "stderr",
     "output_type": "stream",
     "text": [
      "INFO:pypsa.opf:Solving model using glpk\n",
      "INFO:pypsa.opf:Optimization successful\n"
     ]
    },
    {
     "name": "stdout",
     "output_type": "stream",
     "text": [
      "# ==========================================================\n",
      "# = Solver Results                                         =\n",
      "# ==========================================================\n",
      "# ----------------------------------------------------------\n",
      "#   Problem Information\n",
      "# ----------------------------------------------------------\n",
      "Problem: \n",
      "- Name: unknown\n",
      "  Lower bound: 996245514369.735\n",
      "  Upper bound: 996245514369.735\n",
      "  Number of objectives: 1\n",
      "  Number of constraints: 19442\n",
      "  Number of variables: 10804\n",
      "  Number of nonzeros: 38883\n",
      "  Sense: minimize\n",
      "# ----------------------------------------------------------\n",
      "#   Solver Information\n",
      "# ----------------------------------------------------------\n",
      "Solver: \n",
      "- Status: ok\n",
      "  Termination condition: optimal\n",
      "  Statistics: \n",
      "    Branch and bound: \n",
      "      Number of bounded subproblems: 0\n",
      "      Number of created subproblems: 0\n",
      "  Error rc: 0\n",
      "  Time: 2.783294677734375\n",
      "# ----------------------------------------------------------\n",
      "#   Solution Information\n",
      "# ----------------------------------------------------------\n",
      "Solution: \n",
      "- number of solutions: 0\n",
      "  number of solutions displayed: 0\n"
     ]
    },
    {
     "name": "stderr",
     "output_type": "stream",
     "text": [
      "/home/sahiljotwani/anaconda3/envs/pypsa-eur/lib/python3.9/site-packages/pypsa/opf.py:1971: FutureWarning: Using the level keyword in DataFrame and Series aggregations is deprecated and will be removed in a future version. Use groupby instead. df.sum(level=1) should use df.groupby(level=1).sum().\n",
      "  pd.concat(\n",
      "/tmp/ipykernel_558/3625517449.py:44: FutureWarning: The frame.append method is deprecated and will be removed from pandas in a future version. Use pandas.concat instead.\n",
      "  storeSeriesData = storeSeriesData.append(network.stores_t.e)\n",
      "INFO:pypsa.opf:Performed preliminary steps\n",
      "INFO:pypsa.opf:Building pyomo model using `kirchhoff` formulation\n"
     ]
    },
    {
     "name": "stdout",
     "output_type": "stream",
     "text": [
      "attribute          bus0         bus1 type carrier  efficiency  build_year  \\\n",
      "Link                                                                        \n",
      "Link2Store         Main  StoreIsland           AC       0.866           0   \n",
      "Link2Main   StoreIsland         Main           AC       0.866           0   \n",
      "\n",
      "attribute   lifetime  p_nom  p_nom_extendable  p_nom_min  ...  p_set  \\\n",
      "Link                                                      ...          \n",
      "Link2Store       inf    0.0              True        0.0  ...    0.0   \n",
      "Link2Main        inf    0.0              True        0.0  ...    0.0   \n",
      "\n",
      "attribute   p_min_pu  p_max_pu  capital_cost  marginal_cost  length  \\\n",
      "Link                                                                  \n",
      "Link2Store       0.0       1.0      176515.0            0.0     0.0   \n",
      "Link2Main        0.0       1.0      176515.0            0.0     0.0   \n",
      "\n",
      "attribute   terrain_factor  ramp_limit_up  ramp_limit_down    p_nom_opt  \n",
      "Link                                                                     \n",
      "Link2Store             1.0            NaN              NaN  3000.000000  \n",
      "Link2Main              1.0            NaN              NaN  3464.203233  \n",
      "\n",
      "[2 rows x 21 columns]\n"
     ]
    },
    {
     "name": "stderr",
     "output_type": "stream",
     "text": [
      "INFO:pypsa.opf:Solving model using glpk\n",
      "INFO:pypsa.opf:Optimization successful\n"
     ]
    },
    {
     "name": "stdout",
     "output_type": "stream",
     "text": [
      "# ==========================================================\n",
      "# = Solver Results                                         =\n",
      "# ==========================================================\n",
      "# ----------------------------------------------------------\n",
      "#   Problem Information\n",
      "# ----------------------------------------------------------\n",
      "Problem: \n",
      "- Name: unknown\n",
      "  Lower bound: 198212428475.276\n",
      "  Upper bound: 198212428475.276\n",
      "  Number of objectives: 1\n",
      "  Number of constraints: 19442\n",
      "  Number of variables: 10804\n",
      "  Number of nonzeros: 38883\n",
      "  Sense: minimize\n",
      "# ----------------------------------------------------------\n",
      "#   Solver Information\n",
      "# ----------------------------------------------------------\n",
      "Solver: \n",
      "- Status: ok\n",
      "  Termination condition: optimal\n",
      "  Statistics: \n",
      "    Branch and bound: \n",
      "      Number of bounded subproblems: 0\n",
      "      Number of created subproblems: 0\n",
      "  Error rc: 0\n",
      "  Time: 2.774843454360962\n",
      "# ----------------------------------------------------------\n",
      "#   Solution Information\n",
      "# ----------------------------------------------------------\n",
      "Solution: \n",
      "- number of solutions: 0\n",
      "  number of solutions displayed: 0\n"
     ]
    },
    {
     "name": "stderr",
     "output_type": "stream",
     "text": [
      "/home/sahiljotwani/anaconda3/envs/pypsa-eur/lib/python3.9/site-packages/pypsa/opf.py:1971: FutureWarning: Using the level keyword in DataFrame and Series aggregations is deprecated and will be removed in a future version. Use groupby instead. df.sum(level=1) should use df.groupby(level=1).sum().\n",
      "  pd.concat(\n"
     ]
    },
    {
     "name": "stdout",
     "output_type": "stream",
     "text": [
      "attribute          bus0         bus1 type carrier  efficiency  build_year  \\\n",
      "Link                                                                        \n",
      "Link2Store         Main  StoreIsland           AC      0.8944           0   \n",
      "Link2Main   StoreIsland         Main           AC      0.8944           0   \n",
      "\n",
      "attribute   lifetime  p_nom  p_nom_extendable  p_nom_min  ...  p_set  \\\n",
      "Link                                                      ...          \n",
      "Link2Store       inf    0.0              True        0.0  ...    0.0   \n",
      "Link2Main        inf    0.0              True        0.0  ...    0.0   \n",
      "\n",
      "attribute   p_min_pu  p_max_pu  capital_cost  marginal_cost  length  \\\n",
      "Link                                                                  \n",
      "Link2Store       0.0       1.0      750000.0            0.0     0.0   \n",
      "Link2Main        0.0       1.0      750000.0            0.0     0.0   \n",
      "\n",
      "attribute   terrain_factor  ramp_limit_up  ramp_limit_down    p_nom_opt  \n",
      "Link                                                                     \n",
      "Link2Store             1.0            NaN              NaN  3000.000000  \n",
      "Link2Main              1.0            NaN              NaN  3354.203936  \n",
      "\n",
      "[2 rows x 21 columns]\n"
     ]
    },
    {
     "name": "stderr",
     "output_type": "stream",
     "text": [
      "/tmp/ipykernel_558/3625517449.py:44: FutureWarning: The frame.append method is deprecated and will be removed from pandas in a future version. Use pandas.concat instead.\n",
      "  storeSeriesData = storeSeriesData.append(network.stores_t.e)\n"
     ]
    }
   ],
   "source": [
    "for i in range(7):\n",
    "    #LINKS\n",
    "    #Charger Link\n",
    "    network.add(\n",
    "        \"Link\",\n",
    "        name=\"Link2Store\",\n",
    "        bus0=\"Main\",\n",
    "        bus1=\"StoreIsland\",\n",
    "        capital_cost=parameterBank[i][0]*10**6,\n",
    "        p_nom_extendable=True,\n",
    "        #marginal_cost=0,\n",
    "        efficiency=parameterBank[i][1],\n",
    "    )\n",
    "\n",
    "    #Discharger Link\n",
    "    network.add(\n",
    "        \"Link\",\n",
    "        name=\"Link2Main\",\n",
    "        bus0=\"StoreIsland\",\n",
    "        bus1=\"Main\",\n",
    "        capital_cost=parameterBank[i][2]*10**6,\n",
    "        p_nom_extendable=True,\n",
    "        #marginal_cost=0.01,\n",
    "        efficiency=parameterBank[i][3]\n",
    "    )\n",
    "\n",
    "    #STORE\n",
    "    network.add(\n",
    "        \"Store\",\n",
    "        \"TheStorage\",\n",
    "        bus=\"StoreIsland\",\n",
    "        capital_cost=parameterBank[i][4]*10**6,\n",
    "        e_nom_extendable=True,\n",
    "        e_cyclic=True\n",
    "    )\n",
    "\n",
    "    if i==0 or i==5 or i==6:\n",
    "        network.lopf(extra_functionality=extra_functionality)\n",
    "    else:\n",
    "        network.lopf()\n",
    "\n",
    "    print(network.links)\n",
    "        \n",
    "    storeSeriesData = storeSeriesData.append(network.stores_t.e)\n",
    "    storeObjectives[i] = network.objective\n",
    "    storeCapacities[i] = network.stores_t.e.max()\n",
    "\n",
    "    network.mremove(\"Store\",[\"TheStorage\"])\n",
    "    network.mremove(\"Link\",[\"Link2Main\",\"Link2Store\"])\n",
    "    \n"
   ]
  },
  {
   "cell_type": "code",
   "execution_count": 35,
   "metadata": {},
   "outputs": [
    {
     "data": {
      "text/html": [
       "<div>\n",
       "<style scoped>\n",
       "    .dataframe tbody tr th:only-of-type {\n",
       "        vertical-align: middle;\n",
       "    }\n",
       "\n",
       "    .dataframe tbody tr th {\n",
       "        vertical-align: top;\n",
       "    }\n",
       "\n",
       "    .dataframe thead th {\n",
       "        text-align: right;\n",
       "    }\n",
       "</style>\n",
       "<table border=\"1\" class=\"dataframe\">\n",
       "  <thead>\n",
       "    <tr style=\"text-align: right;\">\n",
       "      <th>Store</th>\n",
       "      <th>TheStorage</th>\n",
       "    </tr>\n",
       "    <tr>\n",
       "      <th>snapshot</th>\n",
       "      <th></th>\n",
       "    </tr>\n",
       "  </thead>\n",
       "  <tbody>\n",
       "    <tr>\n",
       "      <th>2020-01-01 00:00:00</th>\n",
       "      <td>2700.000000</td>\n",
       "    </tr>\n",
       "    <tr>\n",
       "      <th>2020-01-01 01:00:00</th>\n",
       "      <td>5400.000000</td>\n",
       "    </tr>\n",
       "    <tr>\n",
       "      <th>2020-01-01 02:00:00</th>\n",
       "      <td>8100.000000</td>\n",
       "    </tr>\n",
       "    <tr>\n",
       "      <th>2020-01-01 03:00:00</th>\n",
       "      <td>10800.000000</td>\n",
       "    </tr>\n",
       "    <tr>\n",
       "      <th>2020-01-01 04:00:00</th>\n",
       "      <td>13500.000000</td>\n",
       "    </tr>\n",
       "    <tr>\n",
       "      <th>...</th>\n",
       "      <td>...</td>\n",
       "    </tr>\n",
       "    <tr>\n",
       "      <th>2020-03-30 19:00:00</th>\n",
       "      <td>13416.712171</td>\n",
       "    </tr>\n",
       "    <tr>\n",
       "      <th>2020-03-30 20:00:00</th>\n",
       "      <td>10062.574817</td>\n",
       "    </tr>\n",
       "    <tr>\n",
       "      <th>2020-03-30 21:00:00</th>\n",
       "      <td>6708.400473</td>\n",
       "    </tr>\n",
       "    <tr>\n",
       "      <th>2020-03-30 22:00:00</th>\n",
       "      <td>3354.203936</td>\n",
       "    </tr>\n",
       "    <tr>\n",
       "      <th>2020-03-30 23:00:00</th>\n",
       "      <td>0.000000</td>\n",
       "    </tr>\n",
       "  </tbody>\n",
       "</table>\n",
       "<p>15120 rows × 1 columns</p>\n",
       "</div>"
      ],
      "text/plain": [
       "Store                  TheStorage\n",
       "snapshot                         \n",
       "2020-01-01 00:00:00   2700.000000\n",
       "2020-01-01 01:00:00   5400.000000\n",
       "2020-01-01 02:00:00   8100.000000\n",
       "2020-01-01 03:00:00  10800.000000\n",
       "2020-01-01 04:00:00  13500.000000\n",
       "...                           ...\n",
       "2020-03-30 19:00:00  13416.712171\n",
       "2020-03-30 20:00:00  10062.574817\n",
       "2020-03-30 21:00:00   6708.400473\n",
       "2020-03-30 22:00:00   3354.203936\n",
       "2020-03-30 23:00:00      0.000000\n",
       "\n",
       "[15120 rows x 1 columns]"
      ]
     },
     "execution_count": 35,
     "metadata": {},
     "output_type": "execute_result"
    }
   ],
   "source": [
    "storeSeriesData"
   ]
  },
  {
   "cell_type": "code",
   "execution_count": 36,
   "metadata": {},
   "outputs": [],
   "source": [
    "storeSeriesData2 = pd.DataFrame()\n",
    "storeSeriesData2['Lithium'] = storeSeriesData.iloc[0:240*3*3]\n",
    "storeSeriesData2['Hydrogen'] = storeSeriesData.iloc[240*3*3:480*3*3]\n",
    "storeSeriesData2['CAES'] = storeSeriesData.iloc[480*3*3:720*3*3]\n",
    "storeSeriesData2['LAES'] = storeSeriesData.iloc[720*3*3:960*3*3]\n",
    "storeSeriesData2['ETES'] = storeSeriesData.iloc[960*3*3:1200*3*3]\n",
    "storeSeriesData2['NaS'] = storeSeriesData.iloc[1200*3*3:1440*3*3]\n",
    "storeSeriesData2['Fe-Flow'] = storeSeriesData.iloc[1440*3*3:]\n",
    "\n",
    "storageCapacitiesdf= pd.DataFrame(storeCapacities)\n",
    "storageCapacitiesdf = storageCapacitiesdf.set_axis([\"Lithium\", \"Hydrogen\",\"CAES\",\"LAES\",\"ETES\",\"NaS\",\"Fe-Flow\"], axis=0)\n",
    "storageCapacitiesdf = storageCapacitiesdf.set_axis([\"Capacities\"], axis=1)\n",
    "\n",
    "storageObjectivesdf = pd.DataFrame(storeObjectives)\n",
    "storageObjectivesdf = storageObjectivesdf.set_axis([\"Lithium\", \"Hydrogen\",\"CAES\",\"LAES\",\"ETES\",\"NaS\",\"Fe-Flow\"], axis=0)\n",
    "storageObjectivesdf = storageObjectivesdf.set_axis([\"Objective\"], axis=1)"
   ]
  },
  {
   "cell_type": "code",
   "execution_count": 43,
   "metadata": {},
   "outputs": [
    {
     "data": {
      "text/html": [
       "<div>\n",
       "<style scoped>\n",
       "    .dataframe tbody tr th:only-of-type {\n",
       "        vertical-align: middle;\n",
       "    }\n",
       "\n",
       "    .dataframe tbody tr th {\n",
       "        vertical-align: top;\n",
       "    }\n",
       "\n",
       "    .dataframe thead th {\n",
       "        text-align: right;\n",
       "    }\n",
       "</style>\n",
       "<table border=\"1\" class=\"dataframe\">\n",
       "  <thead>\n",
       "    <tr style=\"text-align: right;\">\n",
       "      <th></th>\n",
       "      <th>Lithium</th>\n",
       "      <th>Hydrogen</th>\n",
       "      <th>CAES</th>\n",
       "      <th>LAES</th>\n",
       "      <th>ETES</th>\n",
       "      <th>NaS</th>\n",
       "      <th>Fe-Flow</th>\n",
       "    </tr>\n",
       "    <tr>\n",
       "      <th>snapshot</th>\n",
       "      <th></th>\n",
       "      <th></th>\n",
       "      <th></th>\n",
       "      <th></th>\n",
       "      <th></th>\n",
       "      <th></th>\n",
       "      <th></th>\n",
       "    </tr>\n",
       "  </thead>\n",
       "  <tbody>\n",
       "    <tr>\n",
       "      <th>2020-01-01 00:00:00</th>\n",
       "      <td>2.700000</td>\n",
       "      <td>1.807662</td>\n",
       "      <td>1.437174</td>\n",
       "      <td>1.321332</td>\n",
       "      <td>1.568335</td>\n",
       "      <td>2.598000</td>\n",
       "      <td>2.683200</td>\n",
       "    </tr>\n",
       "    <tr>\n",
       "      <th>2020-01-01 01:00:00</th>\n",
       "      <td>5.400000</td>\n",
       "      <td>3.615325</td>\n",
       "      <td>2.874349</td>\n",
       "      <td>2.642664</td>\n",
       "      <td>3.136670</td>\n",
       "      <td>5.196000</td>\n",
       "      <td>5.366400</td>\n",
       "    </tr>\n",
       "    <tr>\n",
       "      <th>2020-01-01 02:00:00</th>\n",
       "      <td>8.100000</td>\n",
       "      <td>5.422987</td>\n",
       "      <td>4.311523</td>\n",
       "      <td>3.963996</td>\n",
       "      <td>4.705006</td>\n",
       "      <td>7.794000</td>\n",
       "      <td>8.049600</td>\n",
       "    </tr>\n",
       "    <tr>\n",
       "      <th>2020-01-01 03:00:00</th>\n",
       "      <td>10.800000</td>\n",
       "      <td>7.230649</td>\n",
       "      <td>5.748698</td>\n",
       "      <td>5.285329</td>\n",
       "      <td>6.273341</td>\n",
       "      <td>10.392000</td>\n",
       "      <td>10.732800</td>\n",
       "    </tr>\n",
       "    <tr>\n",
       "      <th>2020-01-01 04:00:00</th>\n",
       "      <td>13.500000</td>\n",
       "      <td>9.038312</td>\n",
       "      <td>7.185872</td>\n",
       "      <td>6.606661</td>\n",
       "      <td>7.841676</td>\n",
       "      <td>12.990000</td>\n",
       "      <td>13.416000</td>\n",
       "    </tr>\n",
       "    <tr>\n",
       "      <th>...</th>\n",
       "      <td>...</td>\n",
       "      <td>...</td>\n",
       "      <td>...</td>\n",
       "      <td>...</td>\n",
       "      <td>...</td>\n",
       "      <td>...</td>\n",
       "      <td>...</td>\n",
       "    </tr>\n",
       "    <tr>\n",
       "      <th>2020-03-30 19:00:00</th>\n",
       "      <td>13.333230</td>\n",
       "      <td>20.689495</td>\n",
       "      <td>16.641114</td>\n",
       "      <td>15.491747</td>\n",
       "      <td>17.888950</td>\n",
       "      <td>13.856706</td>\n",
       "      <td>13.416712</td>\n",
       "    </tr>\n",
       "    <tr>\n",
       "      <th>2020-03-30 20:00:00</th>\n",
       "      <td>9.999963</td>\n",
       "      <td>15.517184</td>\n",
       "      <td>12.480886</td>\n",
       "      <td>11.618857</td>\n",
       "      <td>13.416766</td>\n",
       "      <td>10.392571</td>\n",
       "      <td>10.062575</td>\n",
       "    </tr>\n",
       "    <tr>\n",
       "      <th>2020-03-30 21:00:00</th>\n",
       "      <td>6.666659</td>\n",
       "      <td>10.344816</td>\n",
       "      <td>8.320612</td>\n",
       "      <td>7.745925</td>\n",
       "      <td>8.944534</td>\n",
       "      <td>6.928399</td>\n",
       "      <td>6.708400</td>\n",
       "    </tr>\n",
       "    <tr>\n",
       "      <th>2020-03-30 22:00:00</th>\n",
       "      <td>3.333333</td>\n",
       "      <td>5.172414</td>\n",
       "      <td>4.160311</td>\n",
       "      <td>3.872967</td>\n",
       "      <td>4.472272</td>\n",
       "      <td>3.464203</td>\n",
       "      <td>3.354204</td>\n",
       "    </tr>\n",
       "    <tr>\n",
       "      <th>2020-03-30 23:00:00</th>\n",
       "      <td>0.000000</td>\n",
       "      <td>0.000000</td>\n",
       "      <td>0.000000</td>\n",
       "      <td>0.000000</td>\n",
       "      <td>0.000000</td>\n",
       "      <td>0.000000</td>\n",
       "      <td>0.000000</td>\n",
       "    </tr>\n",
       "  </tbody>\n",
       "</table>\n",
       "<p>2160 rows × 7 columns</p>\n",
       "</div>"
      ],
      "text/plain": [
       "                       Lithium   Hydrogen       CAES       LAES       ETES  \\\n",
       "snapshot                                                                     \n",
       "2020-01-01 00:00:00   2.700000   1.807662   1.437174   1.321332   1.568335   \n",
       "2020-01-01 01:00:00   5.400000   3.615325   2.874349   2.642664   3.136670   \n",
       "2020-01-01 02:00:00   8.100000   5.422987   4.311523   3.963996   4.705006   \n",
       "2020-01-01 03:00:00  10.800000   7.230649   5.748698   5.285329   6.273341   \n",
       "2020-01-01 04:00:00  13.500000   9.038312   7.185872   6.606661   7.841676   \n",
       "...                        ...        ...        ...        ...        ...   \n",
       "2020-03-30 19:00:00  13.333230  20.689495  16.641114  15.491747  17.888950   \n",
       "2020-03-30 20:00:00   9.999963  15.517184  12.480886  11.618857  13.416766   \n",
       "2020-03-30 21:00:00   6.666659  10.344816   8.320612   7.745925   8.944534   \n",
       "2020-03-30 22:00:00   3.333333   5.172414   4.160311   3.872967   4.472272   \n",
       "2020-03-30 23:00:00   0.000000   0.000000   0.000000   0.000000   0.000000   \n",
       "\n",
       "                           NaS    Fe-Flow  \n",
       "snapshot                                   \n",
       "2020-01-01 00:00:00   2.598000   2.683200  \n",
       "2020-01-01 01:00:00   5.196000   5.366400  \n",
       "2020-01-01 02:00:00   7.794000   8.049600  \n",
       "2020-01-01 03:00:00  10.392000  10.732800  \n",
       "2020-01-01 04:00:00  12.990000  13.416000  \n",
       "...                        ...        ...  \n",
       "2020-03-30 19:00:00  13.856706  13.416712  \n",
       "2020-03-30 20:00:00  10.392571  10.062575  \n",
       "2020-03-30 21:00:00   6.928399   6.708400  \n",
       "2020-03-30 22:00:00   3.464203   3.354204  \n",
       "2020-03-30 23:00:00   0.000000   0.000000  \n",
       "\n",
       "[2160 rows x 7 columns]"
      ]
     },
     "execution_count": 43,
     "metadata": {},
     "output_type": "execute_result"
    }
   ],
   "source": [
    "storeSeriesData2/1e3"
   ]
  },
  {
   "cell_type": "code",
   "execution_count": 47,
   "metadata": {},
   "outputs": [
    {
     "data": {
      "text/plain": [
       "<AxesSubplot:xlabel='Time', ylabel='Storage Capacity (GWh)'>"
      ]
     },
     "execution_count": 47,
     "metadata": {},
     "output_type": "execute_result"
    },
    {
     "data": {
      "image/png": "[encoded data removed]",
      "text/plain": [
       "<Figure size 432x288 with 1 Axes>"
      ]
     },
     "metadata": {
      "needs_background": "light"
     },
     "output_type": "display_data"
    }
   ],
   "source": [
    "(storeSeriesData2/1e3).plot(ylabel='Storage Capacity (GWh)', xlabel='Time')"
   ]
  },
  {
   "cell_type": "code",
   "execution_count": 39,
   "metadata": {},
   "outputs": [
    {
     "data": {
      "text/html": [
       "<div>\n",
       "<style scoped>\n",
       "    .dataframe tbody tr th:only-of-type {\n",
       "        vertical-align: middle;\n",
       "    }\n",
       "\n",
       "    .dataframe tbody tr th {\n",
       "        vertical-align: top;\n",
       "    }\n",
       "\n",
       "    .dataframe thead th {\n",
       "        text-align: right;\n",
       "    }\n",
       "</style>\n",
       "<table border=\"1\" class=\"dataframe\">\n",
       "  <thead>\n",
       "    <tr style=\"text-align: right;\">\n",
       "      <th></th>\n",
       "      <th>Objective</th>\n",
       "    </tr>\n",
       "  </thead>\n",
       "  <tbody>\n",
       "    <tr>\n",
       "      <th>Lithium</th>\n",
       "      <td>2.965263e+11</td>\n",
       "    </tr>\n",
       "    <tr>\n",
       "      <th>Hydrogen</th>\n",
       "      <td>2.809603e+10</td>\n",
       "    </tr>\n",
       "    <tr>\n",
       "      <th>CAES</th>\n",
       "      <td>1.034252e+10</td>\n",
       "    </tr>\n",
       "    <tr>\n",
       "      <th>LAES</th>\n",
       "      <td>1.706954e+11</td>\n",
       "    </tr>\n",
       "    <tr>\n",
       "      <th>ETES</th>\n",
       "      <td>1.845137e+11</td>\n",
       "    </tr>\n",
       "    <tr>\n",
       "      <th>NaS</th>\n",
       "      <td>9.962455e+11</td>\n",
       "    </tr>\n",
       "    <tr>\n",
       "      <th>Fe-Flow</th>\n",
       "      <td>1.982124e+11</td>\n",
       "    </tr>\n",
       "  </tbody>\n",
       "</table>\n",
       "</div>"
      ],
      "text/plain": [
       "             Objective\n",
       "Lithium   2.965263e+11\n",
       "Hydrogen  2.809603e+10\n",
       "CAES      1.034252e+10\n",
       "LAES      1.706954e+11\n",
       "ETES      1.845137e+11\n",
       "NaS       9.962455e+11\n",
       "Fe-Flow   1.982124e+11"
      ]
     },
     "execution_count": 39,
     "metadata": {},
     "output_type": "execute_result"
    }
   ],
   "source": [
    "storageObjectivesdf"
   ]
  },
  {
   "cell_type": "code",
   "execution_count": 40,
   "metadata": {},
   "outputs": [
    {
     "data": {
      "text/plain": [
       "<AxesSubplot:>"
      ]
     },
     "execution_count": 40,
     "metadata": {},
     "output_type": "execute_result"
    },
    {
     "data": {
      "image/png": "[encoded data removed]",
      "text/plain": [
       "<Figure size 432x288 with 1 Axes>"
      ]
     },
     "metadata": {
      "needs_background": "light"
     },
     "output_type": "display_data"
    }
   ],
   "source": [
    "storageObjectivesdf.plot(kind=\"bar\", \n",
    "    ylim=(storageObjectivesdf.values.min()*0,storageObjectivesdf.values.max()*1.1))"
   ]
  },
  {
   "cell_type": "code",
   "execution_count": 41,
   "metadata": {},
   "outputs": [
    {
     "data": {
      "text/plain": [
       "<AxesSubplot:>"
      ]
     },
     "execution_count": 41,
     "metadata": {},
     "output_type": "execute_result"
    },
    {
     "data": {
      "image/png": "[encoded data removed]",
      "text/plain": [
       "<Figure size 432x288 with 1 Axes>"
      ]
     },
     "metadata": {
      "needs_background": "light"
     },
     "output_type": "display_data"
    }
   ],
   "source": [
    "storageCapacitiesdf.plot(kind=\"bar\")"
   ]
  },
  {
   "cell_type": "code",
   "execution_count": 42,
   "metadata": {},
   "outputs": [],
   "source": [
    "# fig, (ax1, ax2) = plt.subplots(2,1)\n",
    "# ax1.bar(storageObjectivesdf)"
   ]
  },
  {
   "cell_type": "code",
   "execution_count": null,
   "metadata": {},
   "outputs": [],
   "source": []
  }
 ],
 "metadata": {
  "kernelspec": {
   "display_name": "Python 3.10.4 ('pypsa-eur')",
   "language": "python",
   "name": "python3"
  },
  "language_info": {
   "codemirror_mode": {
    "name": "ipython",
    "version": 3
   },
   "file_extension": ".py",
   "mimetype": "text/x-python",
   "name": "python",
   "nbconvert_exporter": "python",
   "pygments_lexer": "ipython3",
   "version": "3.9.13"
  },
  "orig_nbformat": 4,
  "vscode": {
   "interpreter": {
    "hash": "452ce1ff006d241bd9ff1d613b58aca7a1ae78731da5a52f2323f958a70067bd"
   }
  }
 },
 "nbformat": 4,
 "nbformat_minor": 2
}
